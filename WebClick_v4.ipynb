{
  "nbformat": 4,
  "nbformat_minor": 0,
  "metadata": {
    "colab": {
      "provenance": [],
      "machine_shape": "hm",
      "mount_file_id": "1rUr2y-rrTD00ePFSzlM_EX1k7lC3LE9Z",
      "authorship_tag": "ABX9TyNnpB5wqhEURHcCVmLqOvrn",
      "include_colab_link": true
    },
    "kernelspec": {
      "name": "python3",
      "display_name": "Python 3"
    },
    "language_info": {
      "name": "python"
    }
  },
  "cells": [
    {
      "cell_type": "markdown",
      "metadata": {
        "id": "view-in-github",
        "colab_type": "text"
      },
      "source": [
        "<a href=\"https://colab.research.google.com/github/Tiabet/DACON_WebClick/blob/main/WebClick_v4.ipynb\" target=\"_parent\"><img src=\"https://colab.research.google.com/assets/colab-badge.svg\" alt=\"Open In Colab\"/></a>"
      ]
    },
    {
      "cell_type": "code",
      "execution_count": 2,
      "metadata": {
        "id": "rkEmEMafE4cp"
      },
      "outputs": [],
      "source": [
        "import pandas as pd\n",
        "import matplotlib.pyplot as plt\n",
        "import random\n",
        "import numpy as np\n",
        "import os\n",
        "from sklearn.model_selection import train_test_split\n",
        "from sklearn.preprocessing import LabelEncoder"
      ]
    },
    {
      "cell_type": "code",
      "source": [
        "train = pd.read_parquet('/content/drive/MyDrive/data/train.parquet')\n",
        "test =  pd.read_parquet('/content/drive/MyDrive/data/test.parquet')"
      ],
      "metadata": {
        "id": "lQPRM950FDB1"
      },
      "execution_count": 3,
      "outputs": []
    },
    {
      "cell_type": "code",
      "source": [
        "# 동일한 결과 보장을 위해 Seed값을 고정합니다\n",
        "def seed_everything(seed):\n",
        "    random.seed(seed)\n",
        "    os.environ['PYTHONHASHSEED'] = str(seed)\n",
        "    np.random.seed(seed)\n",
        "\n",
        "seed_everything(42) # Seed를 42로 고정"
      ],
      "metadata": {
        "id": "aIkQbOixFMp6"
      },
      "execution_count": 4,
      "outputs": []
    },
    {
      "cell_type": "code",
      "source": [
        "test.drop('ID', axis = 1, inplace = True)\n",
        "train.drop('ID', axis = 1, inplace = True)\n",
        "train.head()"
      ],
      "metadata": {
        "id": "o762cO5KFNaC",
        "colab": {
          "base_uri": "https://localhost:8080/",
          "height": 256
        },
        "outputId": "6a6ca455-42fe-4bb3-9693-dbd6a046fd79"
      },
      "execution_count": 5,
      "outputs": [
        {
          "output_type": "execute_result",
          "data": {
            "text/plain": [
              "   Click      F01      F02      F03    F04      F05  F06      F07      F08  \\\n",
              "0      1  NSLHFNS  AVKQTCL  DTZFPRW  114.0  ISVXFVA    1  PQZBVMG  LPYPUNA   \n",
              "1      0  VGIVWZQ  LSUSMVO  PQGWFJZ   26.0  NFRVLWS   43  IMPIGJT  MIGYEEG   \n",
              "2      0  JCDXFYU  PILDDJU  IAGJDOH  119.0  LFPUEOV    0  FFUTIRZ  OFKQGTY   \n",
              "3      1  PSMFWTP  ZYAVJHP     None   15.0  ATQPZSJ   26  ZDTZNSB  THBWWCD   \n",
              "4      0  SLCRICD  QPQWGXA     None   13.0  CHZGJZR   20  PQZBVMG  MIGYEEG   \n",
              "\n",
              "       F09  ...      F30      F31      F32  F33      F34      F35   F36  \\\n",
              "0  IZYJZDA  ...  NZGEZLW  GTISJWW    380.0  2.0  AXQFZWC  IRUDRFB   NaN   \n",
              "1  NGODWIN  ...  NZGEZLW  GTISJWW    466.0  1.0  DRVVDHZ  IRUDRFB  19.0   \n",
              "2  BEZTQIO  ...  VHXETCF  KHZNEZF    197.0  0.0  QMOULXS  IRUDRFB   8.0   \n",
              "3  LTETYBG  ...  IVIRTPR  GTISJWW   8640.0  0.0  IZLJUJS  IRUDRFB  14.0   \n",
              "4  LJBQPJW  ...  NZGEZLW  WHSRKIM  41774.0  0.0  BHBIZCL  IRUDRFB  13.0   \n",
              "\n",
              "       F37  F38      F39  \n",
              "0  TFJMLCZ  0.0  AURZYDY  \n",
              "1  AUGTURV  0.0  LUZRMLU  \n",
              "2  ZVSTLNM  0.0  MHBRSQK  \n",
              "3  ZBSRLCQ  0.0  GAZBSSZ  \n",
              "4  QHYLSBX  0.0  QTATWAY  \n",
              "\n",
              "[5 rows x 40 columns]"
            ],
            "text/html": [
              "\n",
              "  <div id=\"df-f545d163-c415-4a4a-85af-49d8248ecb0a\" class=\"colab-df-container\">\n",
              "    <div>\n",
              "<style scoped>\n",
              "    .dataframe tbody tr th:only-of-type {\n",
              "        vertical-align: middle;\n",
              "    }\n",
              "\n",
              "    .dataframe tbody tr th {\n",
              "        vertical-align: top;\n",
              "    }\n",
              "\n",
              "    .dataframe thead th {\n",
              "        text-align: right;\n",
              "    }\n",
              "</style>\n",
              "<table border=\"1\" class=\"dataframe\">\n",
              "  <thead>\n",
              "    <tr style=\"text-align: right;\">\n",
              "      <th></th>\n",
              "      <th>Click</th>\n",
              "      <th>F01</th>\n",
              "      <th>F02</th>\n",
              "      <th>F03</th>\n",
              "      <th>F04</th>\n",
              "      <th>F05</th>\n",
              "      <th>F06</th>\n",
              "      <th>F07</th>\n",
              "      <th>F08</th>\n",
              "      <th>F09</th>\n",
              "      <th>...</th>\n",
              "      <th>F30</th>\n",
              "      <th>F31</th>\n",
              "      <th>F32</th>\n",
              "      <th>F33</th>\n",
              "      <th>F34</th>\n",
              "      <th>F35</th>\n",
              "      <th>F36</th>\n",
              "      <th>F37</th>\n",
              "      <th>F38</th>\n",
              "      <th>F39</th>\n",
              "    </tr>\n",
              "  </thead>\n",
              "  <tbody>\n",
              "    <tr>\n",
              "      <th>0</th>\n",
              "      <td>1</td>\n",
              "      <td>NSLHFNS</td>\n",
              "      <td>AVKQTCL</td>\n",
              "      <td>DTZFPRW</td>\n",
              "      <td>114.0</td>\n",
              "      <td>ISVXFVA</td>\n",
              "      <td>1</td>\n",
              "      <td>PQZBVMG</td>\n",
              "      <td>LPYPUNA</td>\n",
              "      <td>IZYJZDA</td>\n",
              "      <td>...</td>\n",
              "      <td>NZGEZLW</td>\n",
              "      <td>GTISJWW</td>\n",
              "      <td>380.0</td>\n",
              "      <td>2.0</td>\n",
              "      <td>AXQFZWC</td>\n",
              "      <td>IRUDRFB</td>\n",
              "      <td>NaN</td>\n",
              "      <td>TFJMLCZ</td>\n",
              "      <td>0.0</td>\n",
              "      <td>AURZYDY</td>\n",
              "    </tr>\n",
              "    <tr>\n",
              "      <th>1</th>\n",
              "      <td>0</td>\n",
              "      <td>VGIVWZQ</td>\n",
              "      <td>LSUSMVO</td>\n",
              "      <td>PQGWFJZ</td>\n",
              "      <td>26.0</td>\n",
              "      <td>NFRVLWS</td>\n",
              "      <td>43</td>\n",
              "      <td>IMPIGJT</td>\n",
              "      <td>MIGYEEG</td>\n",
              "      <td>NGODWIN</td>\n",
              "      <td>...</td>\n",
              "      <td>NZGEZLW</td>\n",
              "      <td>GTISJWW</td>\n",
              "      <td>466.0</td>\n",
              "      <td>1.0</td>\n",
              "      <td>DRVVDHZ</td>\n",
              "      <td>IRUDRFB</td>\n",
              "      <td>19.0</td>\n",
              "      <td>AUGTURV</td>\n",
              "      <td>0.0</td>\n",
              "      <td>LUZRMLU</td>\n",
              "    </tr>\n",
              "    <tr>\n",
              "      <th>2</th>\n",
              "      <td>0</td>\n",
              "      <td>JCDXFYU</td>\n",
              "      <td>PILDDJU</td>\n",
              "      <td>IAGJDOH</td>\n",
              "      <td>119.0</td>\n",
              "      <td>LFPUEOV</td>\n",
              "      <td>0</td>\n",
              "      <td>FFUTIRZ</td>\n",
              "      <td>OFKQGTY</td>\n",
              "      <td>BEZTQIO</td>\n",
              "      <td>...</td>\n",
              "      <td>VHXETCF</td>\n",
              "      <td>KHZNEZF</td>\n",
              "      <td>197.0</td>\n",
              "      <td>0.0</td>\n",
              "      <td>QMOULXS</td>\n",
              "      <td>IRUDRFB</td>\n",
              "      <td>8.0</td>\n",
              "      <td>ZVSTLNM</td>\n",
              "      <td>0.0</td>\n",
              "      <td>MHBRSQK</td>\n",
              "    </tr>\n",
              "    <tr>\n",
              "      <th>3</th>\n",
              "      <td>1</td>\n",
              "      <td>PSMFWTP</td>\n",
              "      <td>ZYAVJHP</td>\n",
              "      <td>None</td>\n",
              "      <td>15.0</td>\n",
              "      <td>ATQPZSJ</td>\n",
              "      <td>26</td>\n",
              "      <td>ZDTZNSB</td>\n",
              "      <td>THBWWCD</td>\n",
              "      <td>LTETYBG</td>\n",
              "      <td>...</td>\n",
              "      <td>IVIRTPR</td>\n",
              "      <td>GTISJWW</td>\n",
              "      <td>8640.0</td>\n",
              "      <td>0.0</td>\n",
              "      <td>IZLJUJS</td>\n",
              "      <td>IRUDRFB</td>\n",
              "      <td>14.0</td>\n",
              "      <td>ZBSRLCQ</td>\n",
              "      <td>0.0</td>\n",
              "      <td>GAZBSSZ</td>\n",
              "    </tr>\n",
              "    <tr>\n",
              "      <th>4</th>\n",
              "      <td>0</td>\n",
              "      <td>SLCRICD</td>\n",
              "      <td>QPQWGXA</td>\n",
              "      <td>None</td>\n",
              "      <td>13.0</td>\n",
              "      <td>CHZGJZR</td>\n",
              "      <td>20</td>\n",
              "      <td>PQZBVMG</td>\n",
              "      <td>MIGYEEG</td>\n",
              "      <td>LJBQPJW</td>\n",
              "      <td>...</td>\n",
              "      <td>NZGEZLW</td>\n",
              "      <td>WHSRKIM</td>\n",
              "      <td>41774.0</td>\n",
              "      <td>0.0</td>\n",
              "      <td>BHBIZCL</td>\n",
              "      <td>IRUDRFB</td>\n",
              "      <td>13.0</td>\n",
              "      <td>QHYLSBX</td>\n",
              "      <td>0.0</td>\n",
              "      <td>QTATWAY</td>\n",
              "    </tr>\n",
              "  </tbody>\n",
              "</table>\n",
              "<p>5 rows × 40 columns</p>\n",
              "</div>\n",
              "    <div class=\"colab-df-buttons\">\n",
              "\n",
              "  <div class=\"colab-df-container\">\n",
              "    <button class=\"colab-df-convert\" onclick=\"convertToInteractive('df-f545d163-c415-4a4a-85af-49d8248ecb0a')\"\n",
              "            title=\"Convert this dataframe to an interactive table.\"\n",
              "            style=\"display:none;\">\n",
              "\n",
              "  <svg xmlns=\"http://www.w3.org/2000/svg\" height=\"24px\" viewBox=\"0 -960 960 960\">\n",
              "    <path d=\"M120-120v-720h720v720H120Zm60-500h600v-160H180v160Zm220 220h160v-160H400v160Zm0 220h160v-160H400v160ZM180-400h160v-160H180v160Zm440 0h160v-160H620v160ZM180-180h160v-160H180v160Zm440 0h160v-160H620v160Z\"/>\n",
              "  </svg>\n",
              "    </button>\n",
              "\n",
              "  <style>\n",
              "    .colab-df-container {\n",
              "      display:flex;\n",
              "      gap: 12px;\n",
              "    }\n",
              "\n",
              "    .colab-df-convert {\n",
              "      background-color: #E8F0FE;\n",
              "      border: none;\n",
              "      border-radius: 50%;\n",
              "      cursor: pointer;\n",
              "      display: none;\n",
              "      fill: #1967D2;\n",
              "      height: 32px;\n",
              "      padding: 0 0 0 0;\n",
              "      width: 32px;\n",
              "    }\n",
              "\n",
              "    .colab-df-convert:hover {\n",
              "      background-color: #E2EBFA;\n",
              "      box-shadow: 0px 1px 2px rgba(60, 64, 67, 0.3), 0px 1px 3px 1px rgba(60, 64, 67, 0.15);\n",
              "      fill: #174EA6;\n",
              "    }\n",
              "\n",
              "    .colab-df-buttons div {\n",
              "      margin-bottom: 4px;\n",
              "    }\n",
              "\n",
              "    [theme=dark] .colab-df-convert {\n",
              "      background-color: #3B4455;\n",
              "      fill: #D2E3FC;\n",
              "    }\n",
              "\n",
              "    [theme=dark] .colab-df-convert:hover {\n",
              "      background-color: #434B5C;\n",
              "      box-shadow: 0px 1px 3px 1px rgba(0, 0, 0, 0.15);\n",
              "      filter: drop-shadow(0px 1px 2px rgba(0, 0, 0, 0.3));\n",
              "      fill: #FFFFFF;\n",
              "    }\n",
              "  </style>\n",
              "\n",
              "    <script>\n",
              "      const buttonEl =\n",
              "        document.querySelector('#df-f545d163-c415-4a4a-85af-49d8248ecb0a button.colab-df-convert');\n",
              "      buttonEl.style.display =\n",
              "        google.colab.kernel.accessAllowed ? 'block' : 'none';\n",
              "\n",
              "      async function convertToInteractive(key) {\n",
              "        const element = document.querySelector('#df-f545d163-c415-4a4a-85af-49d8248ecb0a');\n",
              "        const dataTable =\n",
              "          await google.colab.kernel.invokeFunction('convertToInteractive',\n",
              "                                                    [key], {});\n",
              "        if (!dataTable) return;\n",
              "\n",
              "        const docLinkHtml = 'Like what you see? Visit the ' +\n",
              "          '<a target=\"_blank\" href=https://colab.research.google.com/notebooks/data_table.ipynb>data table notebook</a>'\n",
              "          + ' to learn more about interactive tables.';\n",
              "        element.innerHTML = '';\n",
              "        dataTable['output_type'] = 'display_data';\n",
              "        await google.colab.output.renderOutput(dataTable, element);\n",
              "        const docLink = document.createElement('div');\n",
              "        docLink.innerHTML = docLinkHtml;\n",
              "        element.appendChild(docLink);\n",
              "      }\n",
              "    </script>\n",
              "  </div>\n",
              "\n",
              "\n",
              "<div id=\"df-3720109d-be1b-41ba-aa2b-562ebf280d34\">\n",
              "  <button class=\"colab-df-quickchart\" onclick=\"quickchart('df-3720109d-be1b-41ba-aa2b-562ebf280d34')\"\n",
              "            title=\"Suggest charts\"\n",
              "            style=\"display:none;\">\n",
              "\n",
              "<svg xmlns=\"http://www.w3.org/2000/svg\" height=\"24px\"viewBox=\"0 0 24 24\"\n",
              "     width=\"24px\">\n",
              "    <g>\n",
              "        <path d=\"M19 3H5c-1.1 0-2 .9-2 2v14c0 1.1.9 2 2 2h14c1.1 0 2-.9 2-2V5c0-1.1-.9-2-2-2zM9 17H7v-7h2v7zm4 0h-2V7h2v10zm4 0h-2v-4h2v4z\"/>\n",
              "    </g>\n",
              "</svg>\n",
              "  </button>\n",
              "\n",
              "<style>\n",
              "  .colab-df-quickchart {\n",
              "      --bg-color: #E8F0FE;\n",
              "      --fill-color: #1967D2;\n",
              "      --hover-bg-color: #E2EBFA;\n",
              "      --hover-fill-color: #174EA6;\n",
              "      --disabled-fill-color: #AAA;\n",
              "      --disabled-bg-color: #DDD;\n",
              "  }\n",
              "\n",
              "  [theme=dark] .colab-df-quickchart {\n",
              "      --bg-color: #3B4455;\n",
              "      --fill-color: #D2E3FC;\n",
              "      --hover-bg-color: #434B5C;\n",
              "      --hover-fill-color: #FFFFFF;\n",
              "      --disabled-bg-color: #3B4455;\n",
              "      --disabled-fill-color: #666;\n",
              "  }\n",
              "\n",
              "  .colab-df-quickchart {\n",
              "    background-color: var(--bg-color);\n",
              "    border: none;\n",
              "    border-radius: 50%;\n",
              "    cursor: pointer;\n",
              "    display: none;\n",
              "    fill: var(--fill-color);\n",
              "    height: 32px;\n",
              "    padding: 0;\n",
              "    width: 32px;\n",
              "  }\n",
              "\n",
              "  .colab-df-quickchart:hover {\n",
              "    background-color: var(--hover-bg-color);\n",
              "    box-shadow: 0 1px 2px rgba(60, 64, 67, 0.3), 0 1px 3px 1px rgba(60, 64, 67, 0.15);\n",
              "    fill: var(--button-hover-fill-color);\n",
              "  }\n",
              "\n",
              "  .colab-df-quickchart-complete:disabled,\n",
              "  .colab-df-quickchart-complete:disabled:hover {\n",
              "    background-color: var(--disabled-bg-color);\n",
              "    fill: var(--disabled-fill-color);\n",
              "    box-shadow: none;\n",
              "  }\n",
              "\n",
              "  .colab-df-spinner {\n",
              "    border: 2px solid var(--fill-color);\n",
              "    border-color: transparent;\n",
              "    border-bottom-color: var(--fill-color);\n",
              "    animation:\n",
              "      spin 1s steps(1) infinite;\n",
              "  }\n",
              "\n",
              "  @keyframes spin {\n",
              "    0% {\n",
              "      border-color: transparent;\n",
              "      border-bottom-color: var(--fill-color);\n",
              "      border-left-color: var(--fill-color);\n",
              "    }\n",
              "    20% {\n",
              "      border-color: transparent;\n",
              "      border-left-color: var(--fill-color);\n",
              "      border-top-color: var(--fill-color);\n",
              "    }\n",
              "    30% {\n",
              "      border-color: transparent;\n",
              "      border-left-color: var(--fill-color);\n",
              "      border-top-color: var(--fill-color);\n",
              "      border-right-color: var(--fill-color);\n",
              "    }\n",
              "    40% {\n",
              "      border-color: transparent;\n",
              "      border-right-color: var(--fill-color);\n",
              "      border-top-color: var(--fill-color);\n",
              "    }\n",
              "    60% {\n",
              "      border-color: transparent;\n",
              "      border-right-color: var(--fill-color);\n",
              "    }\n",
              "    80% {\n",
              "      border-color: transparent;\n",
              "      border-right-color: var(--fill-color);\n",
              "      border-bottom-color: var(--fill-color);\n",
              "    }\n",
              "    90% {\n",
              "      border-color: transparent;\n",
              "      border-bottom-color: var(--fill-color);\n",
              "    }\n",
              "  }\n",
              "</style>\n",
              "\n",
              "  <script>\n",
              "    async function quickchart(key) {\n",
              "      const quickchartButtonEl =\n",
              "        document.querySelector('#' + key + ' button');\n",
              "      quickchartButtonEl.disabled = true;  // To prevent multiple clicks.\n",
              "      quickchartButtonEl.classList.add('colab-df-spinner');\n",
              "      try {\n",
              "        const charts = await google.colab.kernel.invokeFunction(\n",
              "            'suggestCharts', [key], {});\n",
              "      } catch (error) {\n",
              "        console.error('Error during call to suggestCharts:', error);\n",
              "      }\n",
              "      quickchartButtonEl.classList.remove('colab-df-spinner');\n",
              "      quickchartButtonEl.classList.add('colab-df-quickchart-complete');\n",
              "    }\n",
              "    (() => {\n",
              "      let quickchartButtonEl =\n",
              "        document.querySelector('#df-3720109d-be1b-41ba-aa2b-562ebf280d34 button');\n",
              "      quickchartButtonEl.style.display =\n",
              "        google.colab.kernel.accessAllowed ? 'block' : 'none';\n",
              "    })();\n",
              "  </script>\n",
              "</div>\n",
              "\n",
              "    </div>\n",
              "  </div>\n"
            ],
            "application/vnd.google.colaboratory.intrinsic+json": {
              "type": "dataframe",
              "variable_name": "train"
            }
          },
          "metadata": {},
          "execution_count": 5
        }
      ]
    },
    {
      "cell_type": "markdown",
      "source": [
        "결측치 처리"
      ],
      "metadata": {
        "id": "uYkaevuPFTWg"
      }
    },
    {
      "cell_type": "code",
      "source": [
        "import numpy as np\n",
        "\n",
        "# Function to fill NaNs based on existing distribution\n",
        "def fill_na_with_distribution(column):\n",
        "    counts = column.dropna().value_counts(normalize=True)\n",
        "    nans_to_fill = column.isna().sum()\n",
        "    fill_values = np.random.choice(counts.index, size=nans_to_fill, p=counts.values)\n",
        "    column.loc[column.isna()] = fill_values\n",
        "    return column\n",
        "\n",
        "# Apply the function to each column in DataFrame\n",
        "train = train.apply(fill_na_with_distribution, axis=0)\n",
        "test = test.apply(fill_na_with_distribution, axis=0)"
      ],
      "metadata": {
        "id": "yuWQtd1tFO7L"
      },
      "execution_count": 6,
      "outputs": []
    },
    {
      "cell_type": "code",
      "source": [
        "train = train.groupby('Click').apply(lambda x: x.sample(min(len(x), 5569860)))"
      ],
      "metadata": {
        "id": "EJe7Ek95GZXz"
      },
      "execution_count": 7,
      "outputs": []
    },
    {
      "cell_type": "code",
      "source": [
        "train_x = train.drop('Click', axis = 1)\n",
        "train_y = train['Click']"
      ],
      "metadata": {
        "id": "t5XKAzU_Ga3c"
      },
      "execution_count": 8,
      "outputs": []
    },
    {
      "cell_type": "code",
      "source": [
        "del train"
      ],
      "metadata": {
        "id": "qeaeIZ9SGcgU"
      },
      "execution_count": 9,
      "outputs": []
    },
    {
      "cell_type": "code",
      "source": [
        "# Label encode categorical columns\n",
        "def label_encode_columns(train_df, test_df):\n",
        "    le = LabelEncoder()\n",
        "    for column in train_df.columns:\n",
        "        if train_df[column].dtype == 'object' or isinstance(train_df[column].dtype, pd.CategoricalDtype):\n",
        "            # Fit the LabelEncoder on the combined data to ensure consistency\n",
        "            combined_data = pd.concat([train_df[column], test_df[column]], axis=0).astype(str)\n",
        "            le.fit(combined_data)\n",
        "            train_df[column] = le.transform(train_df[column].astype(str))\n",
        "            test_df[column] = le.transform(test_df[column].astype(str))\n",
        "    return train_df, test_df\n",
        "\n",
        "# Apply label encoding to train_x and test_x\n",
        "train_x, test_x = label_encode_columns(train_x, test)"
      ],
      "metadata": {
        "id": "vmTAsE47Gd7P"
      },
      "execution_count": 10,
      "outputs": []
    },
    {
      "cell_type": "code",
      "source": [
        "train_x.to_parquet('/content/drive/MyDrive/data/train_v4.parquet',compression='gzip',engine='pyarrow',index=False)\n",
        "test_x.to_parquet('/content/drive/MyDrive/data/test_v4.parquet',compression='gzip',engine='pyarrow',index=False)\n",
        "train_y.to_csv('/content/drive/MyDrive/data/train_y_v4.csv',index = False)"
      ],
      "metadata": {
        "id": "zzlQXHBrmQjJ"
      },
      "execution_count": 12,
      "outputs": []
    },
    {
      "cell_type": "code",
      "source": [
        "# Split the dataset into training and validation sets\n",
        "X_train, X_val, y_train, y_val = train_test_split(train_x, train_y, test_size=0.2, random_state=42)"
      ],
      "metadata": {
        "id": "id-DbMkEGe4d"
      },
      "execution_count": 11,
      "outputs": []
    },
    {
      "cell_type": "markdown",
      "source": [
        "Oputna + LGBM"
      ],
      "metadata": {
        "id": "UPQhbFKBdTN7"
      }
    },
    {
      "cell_type": "code",
      "source": [
        "pip install optuna"
      ],
      "metadata": {
        "colab": {
          "base_uri": "https://localhost:8080/"
        },
        "id": "IbeVg12ldH4F",
        "outputId": "950589c6-de63-400c-d04c-9f1967f86a04"
      },
      "execution_count": 13,
      "outputs": [
        {
          "output_type": "stream",
          "name": "stdout",
          "text": [
            "Requirement already satisfied: optuna in /usr/local/lib/python3.10/dist-packages (3.6.1)\n",
            "Requirement already satisfied: alembic>=1.5.0 in /usr/local/lib/python3.10/dist-packages (from optuna) (1.13.1)\n",
            "Requirement already satisfied: colorlog in /usr/local/lib/python3.10/dist-packages (from optuna) (6.8.2)\n",
            "Requirement already satisfied: numpy in /usr/local/lib/python3.10/dist-packages (from optuna) (1.25.2)\n",
            "Requirement already satisfied: packaging>=20.0 in /usr/local/lib/python3.10/dist-packages (from optuna) (24.0)\n",
            "Requirement already satisfied: sqlalchemy>=1.3.0 in /usr/local/lib/python3.10/dist-packages (from optuna) (2.0.30)\n",
            "Requirement already satisfied: tqdm in /usr/local/lib/python3.10/dist-packages (from optuna) (4.66.4)\n",
            "Requirement already satisfied: PyYAML in /usr/local/lib/python3.10/dist-packages (from optuna) (6.0.1)\n",
            "Requirement already satisfied: Mako in /usr/local/lib/python3.10/dist-packages (from alembic>=1.5.0->optuna) (1.3.5)\n",
            "Requirement already satisfied: typing-extensions>=4 in /usr/local/lib/python3.10/dist-packages (from alembic>=1.5.0->optuna) (4.11.0)\n",
            "Requirement already satisfied: greenlet!=0.4.17 in /usr/local/lib/python3.10/dist-packages (from sqlalchemy>=1.3.0->optuna) (3.0.3)\n",
            "Requirement already satisfied: MarkupSafe>=0.9.2 in /usr/local/lib/python3.10/dist-packages (from Mako->alembic>=1.5.0->optuna) (2.1.5)\n"
          ]
        }
      ]
    },
    {
      "cell_type": "code",
      "source": [
        "import optuna\n",
        "import lightgbm as lgb\n",
        "from sklearn.model_selection import train_test_split\n",
        "from sklearn.metrics import roc_auc_score\n",
        "from lightgbm import early_stopping"
      ],
      "metadata": {
        "id": "nnglOf1gdXQz"
      },
      "execution_count": 14,
      "outputs": []
    },
    {
      "cell_type": "code",
      "source": [
        "# Define the objective function\n",
        "def objective(trial):\n",
        "    # Define the search space for the hyperparameters\n",
        "    param = {\n",
        "        'objective': 'binary',\n",
        "        'metric': 'auc',\n",
        "        'verbosity': -1,\n",
        "        'boosting_type': 'gbdt',\n",
        "        # 'num_leaves': trial.suggest_int('num_leaves', 100, 256),\n",
        "        'max_depth': trial.suggest_int('max_depth',3, 100),\n",
        "        'max_bin' : 1023,\n",
        "        'learning_rate': trial.suggest_float('learning_rate', 1e-2, 1e-1),\n",
        "        'n_estimators': trial.suggest_int('n_estimators', 1,10000),\n",
        "        'min_child_samples': trial.suggest_int('min_child_samples', 5, 100),\n",
        "        'subsample': trial.suggest_float('subsample', 0.4, 1.0),\n",
        "        # 'colsample_bytree': trial.suggest_float('colsample_bytree', 0.4, 1.0),\n",
        "        # 'reg_alpha' : 0.04538159470655356,\n",
        "        # 'reg_lambda':0.2207903936520441,\n",
        "    }\n",
        "\n",
        "    # Create and train the model\n",
        "    model = lgb.LGBMClassifier(**param)\n",
        "    # Use smaller subset of the data\n",
        "    X_train_subset = X_train.sample(frac=0.3, random_state=42)\n",
        "    y_train_subset = y_train[X_train_subset.index]\n",
        "    X_val_subset = X_val.sample(frac=0.3, random_state=42)\n",
        "    y_val_subset = y_val[X_val_subset.index]\n",
        "    model.fit(X_train_subset, y_train_subset, eval_set=[(X_val_subset, y_val_subset)], callbacks=[early_stopping(stopping_rounds=10)])\n",
        "\n",
        "    # Predict and calculate AUC\n",
        "    y_pred = model.predict_proba(X_val_subset)[:, 1]\n",
        "    auc = roc_auc_score(y_val_subset, y_pred)\n",
        "\n",
        "    return auc"
      ],
      "metadata": {
        "id": "vc5pCduhdXS8"
      },
      "execution_count": 15,
      "outputs": []
    },
    {
      "cell_type": "code",
      "source": [
        "# Create a study and optimize the objective function\n",
        "study = optuna.create_study(direction='maximize')\n",
        "study.optimize(objective, n_trials=100)"
      ],
      "metadata": {
        "colab": {
          "base_uri": "https://localhost:8080/"
        },
        "id": "kvn79N-qdXVO",
        "outputId": "928b0642-5d1b-4879-c5c9-39a37d7a74ba"
      },
      "execution_count": null,
      "outputs": [
        {
          "output_type": "stream",
          "name": "stderr",
          "text": [
            "[I 2024-05-31 12:44:49,373] A new study created in memory with name: no-name-53e8c31f-8b9c-477c-a082-b046066cdb1e\n"
          ]
        },
        {
          "output_type": "stream",
          "name": "stdout",
          "text": [
            "Training until validation scores don't improve for 10 rounds\n",
            "Early stopping, best iteration is:\n",
            "[3116]\tvalid_0's auc: 0.761607\n"
          ]
        },
        {
          "output_type": "stream",
          "name": "stderr",
          "text": [
            "[I 2024-05-31 12:54:11,489] Trial 0 finished with value: 0.7616072588512309 and parameters: {'max_depth': 66, 'learning_rate': 0.05427277185147264, 'n_estimators': 3668, 'min_child_samples': 70, 'subsample': 0.4117868967557664}. Best is trial 0 with value: 0.7616072588512309.\n"
          ]
        },
        {
          "output_type": "stream",
          "name": "stdout",
          "text": [
            "Training until validation scores don't improve for 10 rounds\n",
            "Early stopping, best iteration is:\n",
            "[3495]\tvalid_0's auc: 0.762906\n"
          ]
        },
        {
          "output_type": "stream",
          "name": "stderr",
          "text": [
            "[I 2024-05-31 13:04:13,813] Trial 1 finished with value: 0.7629058903964258 and parameters: {'max_depth': 68, 'learning_rate': 0.06268725373548048, 'n_estimators': 8069, 'min_child_samples': 77, 'subsample': 0.42190194310241425}. Best is trial 1 with value: 0.7629058903964258.\n"
          ]
        },
        {
          "output_type": "stream",
          "name": "stdout",
          "text": [
            "Training until validation scores don't improve for 10 rounds\n",
            "Did not meet early stopping. Best iteration is:\n",
            "[1578]\tvalid_0's auc: 0.759009\n"
          ]
        },
        {
          "output_type": "stream",
          "name": "stderr",
          "text": [
            "[I 2024-05-31 13:09:04,130] Trial 2 finished with value: 0.7590090311351942 and parameters: {'max_depth': 85, 'learning_rate': 0.07566140562207216, 'n_estimators': 1578, 'min_child_samples': 25, 'subsample': 0.7648194489514952}. Best is trial 1 with value: 0.7629058903964258.\n"
          ]
        },
        {
          "output_type": "stream",
          "name": "stdout",
          "text": [
            "Training until validation scores don't improve for 10 rounds\n",
            "Did not meet early stopping. Best iteration is:\n",
            "[2920]\tvalid_0's auc: 0.754703\n"
          ]
        },
        {
          "output_type": "stream",
          "name": "stderr",
          "text": [
            "[I 2024-05-31 13:18:53,291] Trial 3 finished with value: 0.7547027439128962 and parameters: {'max_depth': 87, 'learning_rate': 0.023024844740846213, 'n_estimators': 2920, 'min_child_samples': 79, 'subsample': 0.9860537205352335}. Best is trial 1 with value: 0.7629058903964258.\n"
          ]
        },
        {
          "output_type": "stream",
          "name": "stdout",
          "text": [
            "Training until validation scores don't improve for 10 rounds\n",
            "Early stopping, best iteration is:\n",
            "[1854]\tvalid_0's auc: 0.760244\n"
          ]
        },
        {
          "output_type": "stream",
          "name": "stderr",
          "text": [
            "[I 2024-05-31 13:24:22,106] Trial 4 finished with value: 0.7602439423841976 and parameters: {'max_depth': 14, 'learning_rate': 0.08142348638912932, 'n_estimators': 4297, 'min_child_samples': 6, 'subsample': 0.8886971240136982}. Best is trial 1 with value: 0.7629058903964258.\n"
          ]
        },
        {
          "output_type": "stream",
          "name": "stdout",
          "text": [
            "Training until validation scores don't improve for 10 rounds\n",
            "Did not meet early stopping. Best iteration is:\n",
            "[3839]\tvalid_0's auc: 0.749636\n"
          ]
        },
        {
          "output_type": "stream",
          "name": "stderr",
          "text": [
            "[I 2024-05-31 13:36:53,008] Trial 5 finished with value: 0.7496363042734975 and parameters: {'max_depth': 5, 'learning_rate': 0.01588277232294673, 'n_estimators': 3839, 'min_child_samples': 31, 'subsample': 0.9142636261158292}. Best is trial 1 with value: 0.7629058903964258.\n"
          ]
        },
        {
          "output_type": "stream",
          "name": "stdout",
          "text": [
            "Training until validation scores don't improve for 10 rounds\n",
            "Early stopping, best iteration is:\n",
            "[2234]\tvalid_0's auc: 0.761737\n"
          ]
        },
        {
          "output_type": "stream",
          "name": "stderr",
          "text": [
            "[I 2024-05-31 13:43:24,393] Trial 6 finished with value: 0.7617372379778693 and parameters: {'max_depth': 92, 'learning_rate': 0.08199213941143245, 'n_estimators': 9198, 'min_child_samples': 61, 'subsample': 0.4666405392298145}. Best is trial 1 with value: 0.7629058903964258.\n"
          ]
        },
        {
          "output_type": "stream",
          "name": "stdout",
          "text": [
            "Training until validation scores don't improve for 10 rounds\n",
            "Did not meet early stopping. Best iteration is:\n",
            "[2520]\tvalid_0's auc: 0.755495\n"
          ]
        },
        {
          "output_type": "stream",
          "name": "stderr",
          "text": [
            "[I 2024-05-31 13:51:49,457] Trial 7 finished with value: 0.7554948638124277 and parameters: {'max_depth': 82, 'learning_rate': 0.029244986293350365, 'n_estimators': 2521, 'min_child_samples': 95, 'subsample': 0.42083859066448775}. Best is trial 1 with value: 0.7629058903964258.\n"
          ]
        },
        {
          "output_type": "stream",
          "name": "stdout",
          "text": [
            "Training until validation scores don't improve for 10 rounds\n",
            "Early stopping, best iteration is:\n",
            "[2174]\tvalid_0's auc: 0.760802\n"
          ]
        },
        {
          "output_type": "stream",
          "name": "stderr",
          "text": [
            "[I 2024-05-31 13:58:49,035] Trial 8 finished with value: 0.7608020309916821 and parameters: {'max_depth': 66, 'learning_rate': 0.07448956432895323, 'n_estimators': 5554, 'min_child_samples': 47, 'subsample': 0.6340000638182457}. Best is trial 1 with value: 0.7629058903964258.\n"
          ]
        },
        {
          "output_type": "stream",
          "name": "stdout",
          "text": [
            "Training until validation scores don't improve for 10 rounds\n",
            "Did not meet early stopping. Best iteration is:\n",
            "[3250]\tvalid_0's auc: 0.750063\n"
          ]
        },
        {
          "output_type": "stream",
          "name": "stderr",
          "text": [
            "[I 2024-05-31 14:10:48,106] Trial 9 finished with value: 0.7500631670912228 and parameters: {'max_depth': 94, 'learning_rate': 0.012977305743981721, 'n_estimators': 3250, 'min_child_samples': 36, 'subsample': 0.6847135897641885}. Best is trial 1 with value: 0.7629058903964258.\n"
          ]
        },
        {
          "output_type": "stream",
          "name": "stdout",
          "text": [
            "Training until validation scores don't improve for 10 rounds\n",
            "Early stopping, best iteration is:\n",
            "[3135]\tvalid_0's auc: 0.760941\n"
          ]
        },
        {
          "output_type": "stream",
          "name": "stderr",
          "text": [
            "[I 2024-05-31 14:20:05,361] Trial 10 finished with value: 0.7609405097441302 and parameters: {'max_depth': 29, 'learning_rate': 0.04826968927884395, 'n_estimators': 8509, 'min_child_samples': 100, 'subsample': 0.5488004248158633}. Best is trial 1 with value: 0.7629058903964258.\n"
          ]
        },
        {
          "output_type": "stream",
          "name": "stdout",
          "text": [
            "Training until validation scores don't improve for 10 rounds\n",
            "Early stopping, best iteration is:\n",
            "[1616]\tvalid_0's auc: 0.760963\n"
          ]
        },
        {
          "output_type": "stream",
          "name": "stderr",
          "text": [
            "[I 2024-05-31 14:24:57,136] Trial 11 finished with value: 0.7609633670732038 and parameters: {'max_depth': 48, 'learning_rate': 0.09814780337542162, 'n_estimators': 9987, 'min_child_samples': 65, 'subsample': 0.5368771957398967}. Best is trial 1 with value: 0.7629058903964258.\n"
          ]
        },
        {
          "output_type": "stream",
          "name": "stdout",
          "text": [
            "Training until validation scores don't improve for 10 rounds\n",
            "Early stopping, best iteration is:\n",
            "[1307]\tvalid_0's auc: 0.759113\n"
          ]
        },
        {
          "output_type": "stream",
          "name": "stderr",
          "text": [
            "[I 2024-05-31 14:29:04,424] Trial 12 finished with value: 0.7591126801980568 and parameters: {'max_depth': 66, 'learning_rate': 0.09268268040827357, 'n_estimators': 7079, 'min_child_samples': 57, 'subsample': 0.5291105324025369}. Best is trial 1 with value: 0.7629058903964258.\n"
          ]
        },
        {
          "output_type": "stream",
          "name": "stdout",
          "text": [
            "Training until validation scores don't improve for 10 rounds\n"
          ]
        }
      ]
    },
    {
      "cell_type": "code",
      "source": [
        "best_params = study.best_trial.params\n",
        "best_model = lgb.LGBMClassifier(**best_params)"
      ],
      "metadata": {
        "id": "wBPIGvnkdXYr"
      },
      "execution_count": null,
      "outputs": []
    },
    {
      "cell_type": "code",
      "source": [
        "sample_submission = pd.read_csv('drive/MyDrive/data/sample_submission.csv')\n",
        "\n",
        "# Predict probabilities on the test set\n",
        "y_pred_test_proba = best_model.predict_proba(test_x)[:, 1]\n",
        "\n",
        "# Output the probabilities for test set\n",
        "print(y_pred_test_proba)"
      ],
      "metadata": {
        "id": "8lfjEetng45H"
      },
      "execution_count": null,
      "outputs": []
    },
    {
      "cell_type": "code",
      "source": [
        "sample_submission['Click'] = y_pred_test_proba\n",
        "sample_submission"
      ],
      "metadata": {
        "id": "aAsI4qgfhGxQ"
      },
      "execution_count": null,
      "outputs": []
    },
    {
      "cell_type": "code",
      "source": [
        "sample_submission.to_csv(\"drive/MyDrive/data/lgbm_prediction_v5.csv\",index = False)"
      ],
      "metadata": {
        "id": "dlinWYHhhHIH"
      },
      "execution_count": null,
      "outputs": []
    },
    {
      "cell_type": "markdown",
      "source": [
        "모델링"
      ],
      "metadata": {
        "id": "8F3PbAtIHNOQ"
      }
    },
    {
      "cell_type": "code",
      "source": [
        "!pip install flaml"
      ],
      "metadata": {
        "id": "v7p7zemzGhck"
      },
      "execution_count": null,
      "outputs": []
    },
    {
      "cell_type": "code",
      "source": [
        "from flaml import AutoML\n",
        "# import wandb"
      ],
      "metadata": {
        "id": "40j_DO1QGisU"
      },
      "execution_count": null,
      "outputs": []
    },
    {
      "cell_type": "code",
      "source": [
        "# Initialize AutoML\n",
        "automl = AutoML()\n",
        "\n",
        "automl_settings = {\n",
        "    \"time_budget\": 3600,  # Total time budget in seconds\n",
        "    \"metric\": 'roc_auc',  # Evaluation metric\n",
        "    \"task\": 'classification',  # Task type\n",
        "    \"log_file_name\": 'automl.log',  # Log file\n",
        "    #\"estimator_list\": ['lgbm', 'xgboost', 'catboost', 'rf', 'extra_tree'],  # List of estimators to use\n",
        "     \"estimator_list\": ['lgbm'],\n",
        "    #\"eval_method\": \"holdout\",  # Use holdout validation method\n",
        "    # \"split_ratio\": 0.2,  # Ratio of data to be used as validation set\n",
        "    \"early_stop\": 10\n",
        "}\n"
      ],
      "metadata": {
        "id": "6VUktHD7Gjz2"
      },
      "execution_count": null,
      "outputs": []
    },
    {
      "cell_type": "code",
      "source": [
        "# Fit the model\n",
        "automl.fit(X_train=X_train, y_train=y_train, X_val=X_val, y_val=y_val, **automl_settings)"
      ],
      "metadata": {
        "colab": {
          "base_uri": "https://localhost:8080/"
        },
        "id": "wdkzKp4GGqzg",
        "outputId": "82238f6e-e5a6-4d1d-b814-8ba4a383d0b3"
      },
      "execution_count": null,
      "outputs": [
        {
          "output_type": "stream",
          "name": "stdout",
          "text": [
            "[flaml.automl.logger: 05-31 00:53:58] {1680} INFO - task = classification\n",
            "[flaml.automl.logger: 05-31 00:53:58] {1688} INFO - Data split method: stratified\n",
            "[flaml.automl.logger: 05-31 00:53:58] {1691} INFO - Evaluation method: holdout\n",
            "[flaml.automl.logger: 05-31 00:54:08] {1789} INFO - Minimizing error metric: 1-roc_auc\n",
            "[flaml.automl.logger: 05-31 00:54:08] {1901} INFO - List of ML learners in AutoML Run: ['lgbm']\n",
            "[flaml.automl.logger: 05-31 00:54:08] {2219} INFO - iteration 0, current learner lgbm\n",
            "[flaml.automl.logger: 05-31 00:54:09] {2345} INFO - Estimated sufficient time budget=9354179s. Estimated necessary time budget=9354s.\n",
            "[flaml.automl.logger: 05-31 00:54:09] {2392} INFO -  at 81.8s,\testimator lgbm's best error=0.3585,\tbest estimator lgbm's best error=0.3585\n",
            "[flaml.automl.logger: 05-31 00:54:09] {2219} INFO - iteration 1, current learner lgbm\n",
            "[flaml.automl.logger: 05-31 00:54:10] {2392} INFO -  at 82.7s,\testimator lgbm's best error=0.3585,\tbest estimator lgbm's best error=0.3585\n",
            "[flaml.automl.logger: 05-31 00:54:10] {2219} INFO - iteration 2, current learner lgbm\n",
            "[flaml.automl.logger: 05-31 00:54:11] {2392} INFO -  at 83.7s,\testimator lgbm's best error=0.3539,\tbest estimator lgbm's best error=0.3539\n",
            "[flaml.automl.logger: 05-31 00:54:11] {2219} INFO - iteration 3, current learner lgbm\n",
            "[flaml.automl.logger: 05-31 00:54:12] {2392} INFO -  at 84.9s,\testimator lgbm's best error=0.3268,\tbest estimator lgbm's best error=0.3268\n",
            "[flaml.automl.logger: 05-31 00:54:12] {2219} INFO - iteration 4, current learner lgbm\n",
            "[flaml.automl.logger: 05-31 00:54:13] {2392} INFO -  at 85.9s,\testimator lgbm's best error=0.3268,\tbest estimator lgbm's best error=0.3268\n",
            "[flaml.automl.logger: 05-31 00:54:13] {2219} INFO - iteration 5, current learner lgbm\n",
            "[flaml.automl.logger: 05-31 00:54:14] {2392} INFO -  at 87.2s,\testimator lgbm's best error=0.3216,\tbest estimator lgbm's best error=0.3216\n",
            "[flaml.automl.logger: 05-31 00:54:14] {2219} INFO - iteration 6, current learner lgbm\n",
            "[flaml.automl.logger: 05-31 00:54:15] {2392} INFO -  at 88.4s,\testimator lgbm's best error=0.3216,\tbest estimator lgbm's best error=0.3216\n",
            "[flaml.automl.logger: 05-31 00:54:15] {2219} INFO - iteration 7, current learner lgbm\n",
            "[flaml.automl.logger: 05-31 00:54:17] {2392} INFO -  at 89.4s,\testimator lgbm's best error=0.3216,\tbest estimator lgbm's best error=0.3216\n",
            "[flaml.automl.logger: 05-31 00:54:17] {2219} INFO - iteration 8, current learner lgbm\n",
            "[flaml.automl.logger: 05-31 00:54:18] {2392} INFO -  at 91.1s,\testimator lgbm's best error=0.3120,\tbest estimator lgbm's best error=0.3120\n",
            "[flaml.automl.logger: 05-31 00:54:18] {2219} INFO - iteration 9, current learner lgbm\n",
            "[flaml.automl.logger: 05-31 00:54:20] {2392} INFO -  at 92.5s,\testimator lgbm's best error=0.3120,\tbest estimator lgbm's best error=0.3120\n",
            "[flaml.automl.logger: 05-31 00:54:20] {2219} INFO - iteration 10, current learner lgbm\n",
            "[flaml.automl.logger: 05-31 00:54:23] {2392} INFO -  at 96.0s,\testimator lgbm's best error=0.3120,\tbest estimator lgbm's best error=0.3120\n",
            "[flaml.automl.logger: 05-31 00:54:23] {2219} INFO - iteration 11, current learner lgbm\n",
            "[flaml.automl.logger: 05-31 00:54:25] {2392} INFO -  at 97.7s,\testimator lgbm's best error=0.3120,\tbest estimator lgbm's best error=0.3120\n",
            "[flaml.automl.logger: 05-31 00:54:25] {2219} INFO - iteration 12, current learner lgbm\n",
            "[flaml.automl.logger: 05-31 00:54:26] {2392} INFO -  at 99.2s,\testimator lgbm's best error=0.3120,\tbest estimator lgbm's best error=0.3120\n",
            "[flaml.automl.logger: 05-31 00:54:26] {2219} INFO - iteration 13, current learner lgbm\n",
            "[flaml.automl.logger: 05-31 00:54:28] {2392} INFO -  at 101.0s,\testimator lgbm's best error=0.2957,\tbest estimator lgbm's best error=0.2957\n",
            "[flaml.automl.logger: 05-31 00:54:28] {2219} INFO - iteration 14, current learner lgbm\n",
            "[flaml.automl.logger: 05-31 00:54:30] {2392} INFO -  at 103.2s,\testimator lgbm's best error=0.2947,\tbest estimator lgbm's best error=0.2947\n",
            "[flaml.automl.logger: 05-31 00:54:30] {2219} INFO - iteration 15, current learner lgbm\n",
            "[flaml.automl.logger: 05-31 00:54:33] {2392} INFO -  at 105.9s,\testimator lgbm's best error=0.2947,\tbest estimator lgbm's best error=0.2947\n",
            "[flaml.automl.logger: 05-31 00:54:33] {2219} INFO - iteration 16, current learner lgbm\n",
            "[flaml.automl.logger: 05-31 00:54:35] {2392} INFO -  at 108.1s,\testimator lgbm's best error=0.2947,\tbest estimator lgbm's best error=0.2947\n",
            "[flaml.automl.logger: 05-31 00:54:35] {2219} INFO - iteration 17, current learner lgbm\n",
            "[flaml.automl.logger: 05-31 00:54:37] {2392} INFO -  at 110.2s,\testimator lgbm's best error=0.2920,\tbest estimator lgbm's best error=0.2920\n",
            "[flaml.automl.logger: 05-31 00:54:37] {2219} INFO - iteration 18, current learner lgbm\n",
            "[flaml.automl.logger: 05-31 00:54:40] {2392} INFO -  at 112.6s,\testimator lgbm's best error=0.2868,\tbest estimator lgbm's best error=0.2868\n",
            "[flaml.automl.logger: 05-31 00:54:40] {2219} INFO - iteration 19, current learner lgbm\n",
            "[flaml.automl.logger: 05-31 00:54:41] {2392} INFO -  at 114.3s,\testimator lgbm's best error=0.2868,\tbest estimator lgbm's best error=0.2868\n",
            "[flaml.automl.logger: 05-31 00:54:41] {2219} INFO - iteration 20, current learner lgbm\n",
            "[flaml.automl.logger: 05-31 00:54:48] {2392} INFO -  at 120.8s,\testimator lgbm's best error=0.2829,\tbest estimator lgbm's best error=0.2829\n",
            "[flaml.automl.logger: 05-31 00:54:48] {2219} INFO - iteration 21, current learner lgbm\n",
            "[flaml.automl.logger: 05-31 00:54:54] {2392} INFO -  at 126.6s,\testimator lgbm's best error=0.2816,\tbest estimator lgbm's best error=0.2816\n",
            "[flaml.automl.logger: 05-31 00:54:54] {2219} INFO - iteration 22, current learner lgbm\n",
            "[flaml.automl.logger: 05-31 00:54:59] {2392} INFO -  at 131.7s,\testimator lgbm's best error=0.2816,\tbest estimator lgbm's best error=0.2816\n",
            "[flaml.automl.logger: 05-31 00:54:59] {2219} INFO - iteration 23, current learner lgbm\n",
            "[flaml.automl.logger: 05-31 00:55:05] {2392} INFO -  at 138.1s,\testimator lgbm's best error=0.2816,\tbest estimator lgbm's best error=0.2816\n",
            "[flaml.automl.logger: 05-31 00:55:05] {2219} INFO - iteration 24, current learner lgbm\n",
            "[flaml.automl.logger: 05-31 00:55:10] {2392} INFO -  at 143.1s,\testimator lgbm's best error=0.2816,\tbest estimator lgbm's best error=0.2816\n",
            "[flaml.automl.logger: 05-31 00:55:10] {2219} INFO - iteration 25, current learner lgbm\n",
            "[flaml.automl.logger: 05-31 00:55:19] {2392} INFO -  at 151.9s,\testimator lgbm's best error=0.2813,\tbest estimator lgbm's best error=0.2813\n",
            "[flaml.automl.logger: 05-31 00:55:19] {2219} INFO - iteration 26, current learner lgbm\n",
            "[flaml.automl.logger: 05-31 00:55:25] {2392} INFO -  at 158.1s,\testimator lgbm's best error=0.2813,\tbest estimator lgbm's best error=0.2813\n",
            "[flaml.automl.logger: 05-31 00:55:25] {2219} INFO - iteration 27, current learner lgbm\n",
            "[flaml.automl.logger: 05-31 00:55:46] {2392} INFO -  at 178.4s,\testimator lgbm's best error=0.2813,\tbest estimator lgbm's best error=0.2813\n",
            "[flaml.automl.logger: 05-31 00:55:46] {2219} INFO - iteration 28, current learner lgbm\n",
            "[flaml.automl.logger: 05-31 00:55:49] {2392} INFO -  at 182.2s,\testimator lgbm's best error=0.2813,\tbest estimator lgbm's best error=0.2813\n",
            "[flaml.automl.logger: 05-31 00:55:49] {2219} INFO - iteration 29, current learner lgbm\n",
            "[flaml.automl.logger: 05-31 00:55:54] {2392} INFO -  at 186.7s,\testimator lgbm's best error=0.2813,\tbest estimator lgbm's best error=0.2813\n",
            "[flaml.automl.logger: 05-31 00:55:54] {2219} INFO - iteration 30, current learner lgbm\n",
            "[flaml.automl.logger: 05-31 00:56:15] {2392} INFO -  at 207.5s,\testimator lgbm's best error=0.2813,\tbest estimator lgbm's best error=0.2813\n",
            "[flaml.automl.logger: 05-31 00:56:15] {2219} INFO - iteration 31, current learner lgbm\n",
            "[flaml.automl.logger: 05-31 00:56:27] {2392} INFO -  at 219.5s,\testimator lgbm's best error=0.2675,\tbest estimator lgbm's best error=0.2675\n",
            "[flaml.automl.logger: 05-31 00:56:27] {2219} INFO - iteration 32, current learner lgbm\n",
            "[flaml.automl.logger: 05-31 00:56:35] {2392} INFO -  at 227.5s,\testimator lgbm's best error=0.2675,\tbest estimator lgbm's best error=0.2675\n",
            "[flaml.automl.logger: 05-31 00:56:35] {2219} INFO - iteration 33, current learner lgbm\n",
            "[flaml.automl.logger: 05-31 00:56:53] {2392} INFO -  at 245.9s,\testimator lgbm's best error=0.2658,\tbest estimator lgbm's best error=0.2658\n",
            "[flaml.automl.logger: 05-31 00:56:53] {2219} INFO - iteration 34, current learner lgbm\n",
            "[flaml.automl.logger: 05-31 00:57:12] {2392} INFO -  at 265.2s,\testimator lgbm's best error=0.2658,\tbest estimator lgbm's best error=0.2658\n",
            "[flaml.automl.logger: 05-31 00:57:12] {2219} INFO - iteration 35, current learner lgbm\n",
            "[flaml.automl.logger: 05-31 00:57:31] {2392} INFO -  at 284.2s,\testimator lgbm's best error=0.2652,\tbest estimator lgbm's best error=0.2652\n",
            "[flaml.automl.logger: 05-31 00:57:31] {2219} INFO - iteration 36, current learner lgbm\n",
            "[flaml.automl.logger: 05-31 00:58:59] {2392} INFO -  at 371.7s,\testimator lgbm's best error=0.2652,\tbest estimator lgbm's best error=0.2652\n",
            "[flaml.automl.logger: 05-31 00:58:59] {2219} INFO - iteration 37, current learner lgbm\n",
            "[flaml.automl.logger: 05-31 00:59:30] {2392} INFO -  at 402.9s,\testimator lgbm's best error=0.2565,\tbest estimator lgbm's best error=0.2565\n",
            "[flaml.automl.logger: 05-31 00:59:30] {2219} INFO - iteration 38, current learner lgbm\n",
            "[flaml.automl.logger: 05-31 01:00:37] {2392} INFO -  at 470.0s,\testimator lgbm's best error=0.2565,\tbest estimator lgbm's best error=0.2565\n",
            "[flaml.automl.logger: 05-31 01:00:37] {2219} INFO - iteration 39, current learner lgbm\n",
            "[flaml.automl.logger: 05-31 01:00:50] {2392} INFO -  at 482.8s,\testimator lgbm's best error=0.2565,\tbest estimator lgbm's best error=0.2565\n",
            "[flaml.automl.logger: 05-31 01:00:50] {2219} INFO - iteration 40, current learner lgbm\n",
            "[flaml.automl.logger: 05-31 01:02:17] {2392} INFO -  at 569.7s,\testimator lgbm's best error=0.2501,\tbest estimator lgbm's best error=0.2501\n",
            "[flaml.automl.logger: 05-31 01:02:17] {2219} INFO - iteration 41, current learner lgbm\n",
            "[flaml.automl.logger: 05-31 01:02:48] {2392} INFO -  at 601.3s,\testimator lgbm's best error=0.2501,\tbest estimator lgbm's best error=0.2501\n",
            "[flaml.automl.logger: 05-31 01:02:48] {2219} INFO - iteration 42, current learner lgbm\n",
            "[flaml.automl.logger: 05-31 01:03:09] {2392} INFO -  at 622.0s,\testimator lgbm's best error=0.2501,\tbest estimator lgbm's best error=0.2501\n",
            "[flaml.automl.logger: 05-31 01:03:09] {2219} INFO - iteration 43, current learner lgbm\n",
            "[flaml.automl.logger: 05-31 01:06:25] {2392} INFO -  at 818.1s,\testimator lgbm's best error=0.2460,\tbest estimator lgbm's best error=0.2460\n",
            "[flaml.automl.logger: 05-31 01:06:25] {2219} INFO - iteration 44, current learner lgbm\n",
            "[flaml.automl.logger: 05-31 01:09:17] {2392} INFO -  at 989.5s,\testimator lgbm's best error=0.2460,\tbest estimator lgbm's best error=0.2460\n",
            "[flaml.automl.logger: 05-31 01:09:17] {2219} INFO - iteration 45, current learner lgbm\n",
            "[flaml.automl.logger: 05-31 01:11:49] {2392} INFO -  at 1142.4s,\testimator lgbm's best error=0.2460,\tbest estimator lgbm's best error=0.2460\n",
            "[flaml.automl.logger: 05-31 01:11:49] {2219} INFO - iteration 46, current learner lgbm\n",
            "[flaml.automl.logger: 05-31 01:13:33] {2392} INFO -  at 1246.0s,\testimator lgbm's best error=0.2460,\tbest estimator lgbm's best error=0.2460\n",
            "[flaml.automl.logger: 05-31 01:13:33] {2219} INFO - iteration 47, current learner lgbm\n",
            "[flaml.automl.logger: 05-31 01:15:50] {2392} INFO -  at 1383.3s,\testimator lgbm's best error=0.2460,\tbest estimator lgbm's best error=0.2460\n",
            "[flaml.automl.logger: 05-31 01:15:50] {2219} INFO - iteration 48, current learner lgbm\n",
            "[flaml.automl.logger: 05-31 01:17:13] {2392} INFO -  at 1466.2s,\testimator lgbm's best error=0.2460,\tbest estimator lgbm's best error=0.2460\n",
            "[flaml.automl.logger: 05-31 01:17:13] {2219} INFO - iteration 49, current learner lgbm\n",
            "[flaml.automl.logger: 05-31 01:19:16] {2392} INFO -  at 1588.9s,\testimator lgbm's best error=0.2460,\tbest estimator lgbm's best error=0.2460\n",
            "[flaml.automl.logger: 05-31 01:19:16] {2219} INFO - iteration 50, current learner lgbm\n",
            "[flaml.automl.logger: 05-31 01:20:24] {2392} INFO -  at 1656.8s,\testimator lgbm's best error=0.2460,\tbest estimator lgbm's best error=0.2460\n",
            "[flaml.automl.logger: 05-31 01:20:24] {2219} INFO - iteration 51, current learner lgbm\n",
            "[flaml.automl.logger: 05-31 01:58:00] {2392} INFO -  at 3912.6s,\testimator lgbm's best error=0.2242,\tbest estimator lgbm's best error=0.2242\n",
            "[flaml.automl.logger: 05-31 01:58:00] {2494} INFO - selected model: LGBMClassifier(colsample_bytree=0.5727966266407384,\n",
            "               learning_rate=0.04071853865558166, max_bin=1023,\n",
            "               min_child_samples=6, n_estimators=1, n_jobs=-1, num_leaves=109,\n",
            "               reg_alpha=0.04538159470655356, reg_lambda=0.2207903936520441,\n",
            "               verbose=-1)\n",
            "[flaml.automl.logger: 05-31 01:58:00] {1931} INFO - fit succeeded\n",
            "[flaml.automl.logger: 05-31 01:58:00] {1932} INFO - Time taken to find the best model: 3912.6016986370087\n",
            "[flaml.automl.logger: 05-31 01:58:00] {1942} WARNING - Time taken to find the best model is 109% of the provided time budget and not all estimators' hyperparameter search converged. Consider increasing the time budget.\n"
          ]
        }
      ]
    },
    {
      "cell_type": "code",
      "source": [
        "sample_submission = pd.read_csv('drive/MyDrive/data/sample_submission.csv')\n",
        "\n",
        "# Predict probabilities on the test set\n",
        "y_pred_test_proba = automl.predict_proba(test_x)[:, 1]\n",
        "\n",
        "# Output the probabilities for test set\n",
        "print(y_pred_test_proba)"
      ],
      "metadata": {
        "colab": {
          "base_uri": "https://localhost:8080/"
        },
        "id": "x9fuzTppGrPK",
        "outputId": "120dfa49-010f-4920-e494-4dfa655d0ef8"
      },
      "execution_count": null,
      "outputs": [
        {
          "output_type": "stream",
          "name": "stdout",
          "text": [
            "[0.51818208 0.4127019  0.35411755 ... 0.19848276 0.52919502 0.66582816]\n"
          ]
        }
      ]
    },
    {
      "cell_type": "code",
      "source": [
        "sample_submission['Click'] = y_pred_test_proba\n",
        "sample_submission"
      ],
      "metadata": {
        "colab": {
          "base_uri": "https://localhost:8080/",
          "height": 424
        },
        "id": "_EdQhCxjJDZH",
        "outputId": "d3c956e4-a603-416d-d387-ea557b2ecba6"
      },
      "execution_count": null,
      "outputs": [
        {
          "output_type": "execute_result",
          "data": {
            "text/plain": [
              "                   ID     Click\n",
              "0        TEST_0000000  0.518182\n",
              "1        TEST_0000001  0.412702\n",
              "2        TEST_0000002  0.354118\n",
              "3        TEST_0000003  0.713257\n",
              "4        TEST_0000004  0.716708\n",
              "...               ...       ...\n",
              "4538536  TEST_4538536  0.557996\n",
              "4538537  TEST_4538537  0.639353\n",
              "4538538  TEST_4538538  0.198483\n",
              "4538539  TEST_4538539  0.529195\n",
              "4538540  TEST_4538540  0.665828\n",
              "\n",
              "[4538541 rows x 2 columns]"
            ],
            "text/html": [
              "\n",
              "  <div id=\"df-b4cf3c60-193a-49fb-a201-a570d28f827a\" class=\"colab-df-container\">\n",
              "    <div>\n",
              "<style scoped>\n",
              "    .dataframe tbody tr th:only-of-type {\n",
              "        vertical-align: middle;\n",
              "    }\n",
              "\n",
              "    .dataframe tbody tr th {\n",
              "        vertical-align: top;\n",
              "    }\n",
              "\n",
              "    .dataframe thead th {\n",
              "        text-align: right;\n",
              "    }\n",
              "</style>\n",
              "<table border=\"1\" class=\"dataframe\">\n",
              "  <thead>\n",
              "    <tr style=\"text-align: right;\">\n",
              "      <th></th>\n",
              "      <th>ID</th>\n",
              "      <th>Click</th>\n",
              "    </tr>\n",
              "  </thead>\n",
              "  <tbody>\n",
              "    <tr>\n",
              "      <th>0</th>\n",
              "      <td>TEST_0000000</td>\n",
              "      <td>0.518182</td>\n",
              "    </tr>\n",
              "    <tr>\n",
              "      <th>1</th>\n",
              "      <td>TEST_0000001</td>\n",
              "      <td>0.412702</td>\n",
              "    </tr>\n",
              "    <tr>\n",
              "      <th>2</th>\n",
              "      <td>TEST_0000002</td>\n",
              "      <td>0.354118</td>\n",
              "    </tr>\n",
              "    <tr>\n",
              "      <th>3</th>\n",
              "      <td>TEST_0000003</td>\n",
              "      <td>0.713257</td>\n",
              "    </tr>\n",
              "    <tr>\n",
              "      <th>4</th>\n",
              "      <td>TEST_0000004</td>\n",
              "      <td>0.716708</td>\n",
              "    </tr>\n",
              "    <tr>\n",
              "      <th>...</th>\n",
              "      <td>...</td>\n",
              "      <td>...</td>\n",
              "    </tr>\n",
              "    <tr>\n",
              "      <th>4538536</th>\n",
              "      <td>TEST_4538536</td>\n",
              "      <td>0.557996</td>\n",
              "    </tr>\n",
              "    <tr>\n",
              "      <th>4538537</th>\n",
              "      <td>TEST_4538537</td>\n",
              "      <td>0.639353</td>\n",
              "    </tr>\n",
              "    <tr>\n",
              "      <th>4538538</th>\n",
              "      <td>TEST_4538538</td>\n",
              "      <td>0.198483</td>\n",
              "    </tr>\n",
              "    <tr>\n",
              "      <th>4538539</th>\n",
              "      <td>TEST_4538539</td>\n",
              "      <td>0.529195</td>\n",
              "    </tr>\n",
              "    <tr>\n",
              "      <th>4538540</th>\n",
              "      <td>TEST_4538540</td>\n",
              "      <td>0.665828</td>\n",
              "    </tr>\n",
              "  </tbody>\n",
              "</table>\n",
              "<p>4538541 rows × 2 columns</p>\n",
              "</div>\n",
              "    <div class=\"colab-df-buttons\">\n",
              "\n",
              "  <div class=\"colab-df-container\">\n",
              "    <button class=\"colab-df-convert\" onclick=\"convertToInteractive('df-b4cf3c60-193a-49fb-a201-a570d28f827a')\"\n",
              "            title=\"Convert this dataframe to an interactive table.\"\n",
              "            style=\"display:none;\">\n",
              "\n",
              "  <svg xmlns=\"http://www.w3.org/2000/svg\" height=\"24px\" viewBox=\"0 -960 960 960\">\n",
              "    <path d=\"M120-120v-720h720v720H120Zm60-500h600v-160H180v160Zm220 220h160v-160H400v160Zm0 220h160v-160H400v160ZM180-400h160v-160H180v160Zm440 0h160v-160H620v160ZM180-180h160v-160H180v160Zm440 0h160v-160H620v160Z\"/>\n",
              "  </svg>\n",
              "    </button>\n",
              "\n",
              "  <style>\n",
              "    .colab-df-container {\n",
              "      display:flex;\n",
              "      gap: 12px;\n",
              "    }\n",
              "\n",
              "    .colab-df-convert {\n",
              "      background-color: #E8F0FE;\n",
              "      border: none;\n",
              "      border-radius: 50%;\n",
              "      cursor: pointer;\n",
              "      display: none;\n",
              "      fill: #1967D2;\n",
              "      height: 32px;\n",
              "      padding: 0 0 0 0;\n",
              "      width: 32px;\n",
              "    }\n",
              "\n",
              "    .colab-df-convert:hover {\n",
              "      background-color: #E2EBFA;\n",
              "      box-shadow: 0px 1px 2px rgba(60, 64, 67, 0.3), 0px 1px 3px 1px rgba(60, 64, 67, 0.15);\n",
              "      fill: #174EA6;\n",
              "    }\n",
              "\n",
              "    .colab-df-buttons div {\n",
              "      margin-bottom: 4px;\n",
              "    }\n",
              "\n",
              "    [theme=dark] .colab-df-convert {\n",
              "      background-color: #3B4455;\n",
              "      fill: #D2E3FC;\n",
              "    }\n",
              "\n",
              "    [theme=dark] .colab-df-convert:hover {\n",
              "      background-color: #434B5C;\n",
              "      box-shadow: 0px 1px 3px 1px rgba(0, 0, 0, 0.15);\n",
              "      filter: drop-shadow(0px 1px 2px rgba(0, 0, 0, 0.3));\n",
              "      fill: #FFFFFF;\n",
              "    }\n",
              "  </style>\n",
              "\n",
              "    <script>\n",
              "      const buttonEl =\n",
              "        document.querySelector('#df-b4cf3c60-193a-49fb-a201-a570d28f827a button.colab-df-convert');\n",
              "      buttonEl.style.display =\n",
              "        google.colab.kernel.accessAllowed ? 'block' : 'none';\n",
              "\n",
              "      async function convertToInteractive(key) {\n",
              "        const element = document.querySelector('#df-b4cf3c60-193a-49fb-a201-a570d28f827a');\n",
              "        const dataTable =\n",
              "          await google.colab.kernel.invokeFunction('convertToInteractive',\n",
              "                                                    [key], {});\n",
              "        if (!dataTable) return;\n",
              "\n",
              "        const docLinkHtml = 'Like what you see? Visit the ' +\n",
              "          '<a target=\"_blank\" href=https://colab.research.google.com/notebooks/data_table.ipynb>data table notebook</a>'\n",
              "          + ' to learn more about interactive tables.';\n",
              "        element.innerHTML = '';\n",
              "        dataTable['output_type'] = 'display_data';\n",
              "        await google.colab.output.renderOutput(dataTable, element);\n",
              "        const docLink = document.createElement('div');\n",
              "        docLink.innerHTML = docLinkHtml;\n",
              "        element.appendChild(docLink);\n",
              "      }\n",
              "    </script>\n",
              "  </div>\n",
              "\n",
              "\n",
              "<div id=\"df-144bfea6-d59e-4046-879f-5cf60fe62aa4\">\n",
              "  <button class=\"colab-df-quickchart\" onclick=\"quickchart('df-144bfea6-d59e-4046-879f-5cf60fe62aa4')\"\n",
              "            title=\"Suggest charts\"\n",
              "            style=\"display:none;\">\n",
              "\n",
              "<svg xmlns=\"http://www.w3.org/2000/svg\" height=\"24px\"viewBox=\"0 0 24 24\"\n",
              "     width=\"24px\">\n",
              "    <g>\n",
              "        <path d=\"M19 3H5c-1.1 0-2 .9-2 2v14c0 1.1.9 2 2 2h14c1.1 0 2-.9 2-2V5c0-1.1-.9-2-2-2zM9 17H7v-7h2v7zm4 0h-2V7h2v10zm4 0h-2v-4h2v4z\"/>\n",
              "    </g>\n",
              "</svg>\n",
              "  </button>\n",
              "\n",
              "<style>\n",
              "  .colab-df-quickchart {\n",
              "      --bg-color: #E8F0FE;\n",
              "      --fill-color: #1967D2;\n",
              "      --hover-bg-color: #E2EBFA;\n",
              "      --hover-fill-color: #174EA6;\n",
              "      --disabled-fill-color: #AAA;\n",
              "      --disabled-bg-color: #DDD;\n",
              "  }\n",
              "\n",
              "  [theme=dark] .colab-df-quickchart {\n",
              "      --bg-color: #3B4455;\n",
              "      --fill-color: #D2E3FC;\n",
              "      --hover-bg-color: #434B5C;\n",
              "      --hover-fill-color: #FFFFFF;\n",
              "      --disabled-bg-color: #3B4455;\n",
              "      --disabled-fill-color: #666;\n",
              "  }\n",
              "\n",
              "  .colab-df-quickchart {\n",
              "    background-color: var(--bg-color);\n",
              "    border: none;\n",
              "    border-radius: 50%;\n",
              "    cursor: pointer;\n",
              "    display: none;\n",
              "    fill: var(--fill-color);\n",
              "    height: 32px;\n",
              "    padding: 0;\n",
              "    width: 32px;\n",
              "  }\n",
              "\n",
              "  .colab-df-quickchart:hover {\n",
              "    background-color: var(--hover-bg-color);\n",
              "    box-shadow: 0 1px 2px rgba(60, 64, 67, 0.3), 0 1px 3px 1px rgba(60, 64, 67, 0.15);\n",
              "    fill: var(--button-hover-fill-color);\n",
              "  }\n",
              "\n",
              "  .colab-df-quickchart-complete:disabled,\n",
              "  .colab-df-quickchart-complete:disabled:hover {\n",
              "    background-color: var(--disabled-bg-color);\n",
              "    fill: var(--disabled-fill-color);\n",
              "    box-shadow: none;\n",
              "  }\n",
              "\n",
              "  .colab-df-spinner {\n",
              "    border: 2px solid var(--fill-color);\n",
              "    border-color: transparent;\n",
              "    border-bottom-color: var(--fill-color);\n",
              "    animation:\n",
              "      spin 1s steps(1) infinite;\n",
              "  }\n",
              "\n",
              "  @keyframes spin {\n",
              "    0% {\n",
              "      border-color: transparent;\n",
              "      border-bottom-color: var(--fill-color);\n",
              "      border-left-color: var(--fill-color);\n",
              "    }\n",
              "    20% {\n",
              "      border-color: transparent;\n",
              "      border-left-color: var(--fill-color);\n",
              "      border-top-color: var(--fill-color);\n",
              "    }\n",
              "    30% {\n",
              "      border-color: transparent;\n",
              "      border-left-color: var(--fill-color);\n",
              "      border-top-color: var(--fill-color);\n",
              "      border-right-color: var(--fill-color);\n",
              "    }\n",
              "    40% {\n",
              "      border-color: transparent;\n",
              "      border-right-color: var(--fill-color);\n",
              "      border-top-color: var(--fill-color);\n",
              "    }\n",
              "    60% {\n",
              "      border-color: transparent;\n",
              "      border-right-color: var(--fill-color);\n",
              "    }\n",
              "    80% {\n",
              "      border-color: transparent;\n",
              "      border-right-color: var(--fill-color);\n",
              "      border-bottom-color: var(--fill-color);\n",
              "    }\n",
              "    90% {\n",
              "      border-color: transparent;\n",
              "      border-bottom-color: var(--fill-color);\n",
              "    }\n",
              "  }\n",
              "</style>\n",
              "\n",
              "  <script>\n",
              "    async function quickchart(key) {\n",
              "      const quickchartButtonEl =\n",
              "        document.querySelector('#' + key + ' button');\n",
              "      quickchartButtonEl.disabled = true;  // To prevent multiple clicks.\n",
              "      quickchartButtonEl.classList.add('colab-df-spinner');\n",
              "      try {\n",
              "        const charts = await google.colab.kernel.invokeFunction(\n",
              "            'suggestCharts', [key], {});\n",
              "      } catch (error) {\n",
              "        console.error('Error during call to suggestCharts:', error);\n",
              "      }\n",
              "      quickchartButtonEl.classList.remove('colab-df-spinner');\n",
              "      quickchartButtonEl.classList.add('colab-df-quickchart-complete');\n",
              "    }\n",
              "    (() => {\n",
              "      let quickchartButtonEl =\n",
              "        document.querySelector('#df-144bfea6-d59e-4046-879f-5cf60fe62aa4 button');\n",
              "      quickchartButtonEl.style.display =\n",
              "        google.colab.kernel.accessAllowed ? 'block' : 'none';\n",
              "    })();\n",
              "  </script>\n",
              "</div>\n",
              "\n",
              "  <div id=\"id_84d6c988-4ebb-4878-b66f-884b1fb26d06\">\n",
              "    <style>\n",
              "      .colab-df-generate {\n",
              "        background-color: #E8F0FE;\n",
              "        border: none;\n",
              "        border-radius: 50%;\n",
              "        cursor: pointer;\n",
              "        display: none;\n",
              "        fill: #1967D2;\n",
              "        height: 32px;\n",
              "        padding: 0 0 0 0;\n",
              "        width: 32px;\n",
              "      }\n",
              "\n",
              "      .colab-df-generate:hover {\n",
              "        background-color: #E2EBFA;\n",
              "        box-shadow: 0px 1px 2px rgba(60, 64, 67, 0.3), 0px 1px 3px 1px rgba(60, 64, 67, 0.15);\n",
              "        fill: #174EA6;\n",
              "      }\n",
              "\n",
              "      [theme=dark] .colab-df-generate {\n",
              "        background-color: #3B4455;\n",
              "        fill: #D2E3FC;\n",
              "      }\n",
              "\n",
              "      [theme=dark] .colab-df-generate:hover {\n",
              "        background-color: #434B5C;\n",
              "        box-shadow: 0px 1px 3px 1px rgba(0, 0, 0, 0.15);\n",
              "        filter: drop-shadow(0px 1px 2px rgba(0, 0, 0, 0.3));\n",
              "        fill: #FFFFFF;\n",
              "      }\n",
              "    </style>\n",
              "    <button class=\"colab-df-generate\" onclick=\"generateWithVariable('sample_submission')\"\n",
              "            title=\"Generate code using this dataframe.\"\n",
              "            style=\"display:none;\">\n",
              "\n",
              "  <svg xmlns=\"http://www.w3.org/2000/svg\" height=\"24px\"viewBox=\"0 0 24 24\"\n",
              "       width=\"24px\">\n",
              "    <path d=\"M7,19H8.4L18.45,9,17,7.55,7,17.6ZM5,21V16.75L18.45,3.32a2,2,0,0,1,2.83,0l1.4,1.43a1.91,1.91,0,0,1,.58,1.4,1.91,1.91,0,0,1-.58,1.4L9.25,21ZM18.45,9,17,7.55Zm-12,3A5.31,5.31,0,0,0,4.9,8.1,5.31,5.31,0,0,0,1,6.5,5.31,5.31,0,0,0,4.9,4.9,5.31,5.31,0,0,0,6.5,1,5.31,5.31,0,0,0,8.1,4.9,5.31,5.31,0,0,0,12,6.5,5.46,5.46,0,0,0,6.5,12Z\"/>\n",
              "  </svg>\n",
              "    </button>\n",
              "    <script>\n",
              "      (() => {\n",
              "      const buttonEl =\n",
              "        document.querySelector('#id_84d6c988-4ebb-4878-b66f-884b1fb26d06 button.colab-df-generate');\n",
              "      buttonEl.style.display =\n",
              "        google.colab.kernel.accessAllowed ? 'block' : 'none';\n",
              "\n",
              "      buttonEl.onclick = () => {\n",
              "        google.colab.notebook.generateWithVariable('sample_submission');\n",
              "      }\n",
              "      })();\n",
              "    </script>\n",
              "  </div>\n",
              "\n",
              "    </div>\n",
              "  </div>\n"
            ],
            "application/vnd.google.colaboratory.intrinsic+json": {
              "type": "dataframe",
              "variable_name": "sample_submission"
            }
          },
          "metadata": {},
          "execution_count": 16
        }
      ]
    },
    {
      "cell_type": "code",
      "source": [
        "sample_submission.to_csv(\"drive/MyDrive/data/lgbm_prediction_v4.csv\",index = False)"
      ],
      "metadata": {
        "id": "NCeIlnegJEyX"
      },
      "execution_count": null,
      "outputs": []
    },
    {
      "cell_type": "code",
      "source": [],
      "metadata": {
        "id": "LW0kgf3CZEU2"
      },
      "execution_count": null,
      "outputs": []
    },
    {
      "cell_type": "code",
      "source": [],
      "metadata": {
        "id": "O-Uyj7LFaKc8"
      },
      "execution_count": null,
      "outputs": []
    }
  ]
}