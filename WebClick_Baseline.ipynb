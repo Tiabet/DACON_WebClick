{
  "nbformat": 4,
  "nbformat_minor": 0,
  "metadata": {
    "colab": {
      "provenance": [],
      "gpuType": "A100",
      "authorship_tag": "ABX9TyMfenBP7prn0uD6IGZ7uLCE",
      "include_colab_link": true
    },
    "kernelspec": {
      "name": "python3",
      "display_name": "Python 3"
    },
    "language_info": {
      "name": "python"
    },
    "accelerator": "GPU"
  },
  "cells": [
    {
      "cell_type": "markdown",
      "metadata": {
        "id": "view-in-github",
        "colab_type": "text"
      },
      "source": [
        "<a href=\"https://colab.research.google.com/github/Tiabet/DACON_WebClick/blob/main/WebClick_Baseline.ipynb\" target=\"_parent\"><img src=\"https://colab.research.google.com/assets/colab-badge.svg\" alt=\"Open In Colab\"/></a>"
      ]
    },
    {
      "cell_type": "markdown",
      "source": [],
      "metadata": {
        "id": "xhRv-j8EAvkT"
      }
    },
    {
      "cell_type": "code",
      "source": [
        "import os\n",
        "import random\n",
        "import numpy as np\n",
        "import pandas as pd\n",
        "from tqdm import tqdm\n",
        "\n",
        "import plotly.express as px\n",
        "\n",
        "import category_encoders as ce\n",
        "from sklearn.ensemble import AdaBoostClassifier"
      ],
      "metadata": {
        "id": "0TLvmhCeA9cV"
      },
      "execution_count": null,
      "outputs": []
    },
    {
      "cell_type": "code",
      "source": [
        "# 동일한 결과 보장을 위해 Seed값을 고정합니다\n",
        "def seed_everything(seed):\n",
        "    random.seed(seed)\n",
        "    os.environ['PYTHONHASHSEED'] = str(seed)\n",
        "    np.random.seed(seed)\n",
        "\n",
        "seed_everything(42) # Seed를 42로 고정"
      ],
      "metadata": {
        "id": "w0dtPsJhBArm"
      },
      "execution_count": null,
      "outputs": []
    },
    {
      "cell_type": "code",
      "source": [
        "\n",
        "# 제공된 train 데이터와 test 데이터를 불러옵니다\n",
        "train = pd.read_csv('data/train.csv')\n",
        "test = pd.read_csv('data/test.csv')"
      ],
      "metadata": {
        "id": "t-F-3WrbBF9S"
      },
      "execution_count": null,
      "outputs": []
    },
    {
      "cell_type": "code",
      "source": [
        "#EDA 1 : Sparse and Dense\n",
        "train.head()"
      ],
      "metadata": {
        "id": "GFSe3yZmBK0Z"
      },
      "execution_count": null,
      "outputs": []
    },
    {
      "cell_type": "code",
      "source": [
        "#EDA 2 : Imbalance\n",
        "click = train['Click'].value_counts(normalize=True)\n",
        "\n",
        "click_figure = px.bar(click,\n",
        "             x=['Not Clicked : 0', 'Clicked : 1'],\n",
        "             y=click.values.tolist(),\n",
        "             labels={'x': 'Value', 'y': 'Percentage'},\n",
        "             width = 450,\n",
        "             height = 500\n",
        "            )\n",
        "\n",
        "# 그래프 표시\n",
        "click_figure.show()"
      ],
      "metadata": {
        "id": "Ofs3G8vtBMyD"
      },
      "execution_count": null,
      "outputs": []
    },
    {
      "cell_type": "code",
      "source": [
        "#Data Preprocessing 1 : Select x, y\n",
        "train_x = train.drop(columns=['ID', 'Click'])\n",
        "train_y = train['Click']\n",
        "\n",
        "test_x = test.drop(columns=['ID'])"
      ],
      "metadata": {
        "id": "BgrrUoRVCcAa"
      },
      "execution_count": null,
      "outputs": []
    },
    {
      "cell_type": "code",
      "source": [
        "#Data Preprocessing 2 : Fill NaN\n",
        "for col in tqdm(train_x.columns):\n",
        "    if train_x[col].isnull().sum() != 0:\n",
        "        train_x[col].fillna(0, inplace=True)\n",
        "        test_x[col].fillna(0, inplace=True)"
      ],
      "metadata": {
        "id": "faUW_iP_CiyB"
      },
      "execution_count": null,
      "outputs": []
    },
    {
      "cell_type": "code",
      "source": [
        "#Data Preprocessing 3 : Count Encoding\n",
        "encoding_target = list(train_x.dtypes[train_x.dtypes == \"object\"].index)\n",
        "\n",
        "enc = ce.CountEncoder(cols = encoding_target).fit(train_x, train_y)\n",
        "X_train_encoded = enc.transform(train_x)\n",
        "X_test_encoded = enc.transform(test_x)"
      ],
      "metadata": {
        "id": "H4WSncvQCmRG"
      },
      "execution_count": null,
      "outputs": []
    },
    {
      "cell_type": "code",
      "source": [
        "#Model Setting\n",
        "model = AdaBoostClassifier()\n",
        "#Model Train and Inference\n",
        "model.fit(X_train_encoded, train_y)"
      ],
      "metadata": {
        "id": "23-jtEK2CpM5"
      },
      "execution_count": null,
      "outputs": []
    },
    {
      "cell_type": "code",
      "source": [
        "pred = model.predict_proba(X_test_encoded)\n",
        "display(model.classes_)\n",
        "display(pred)"
      ],
      "metadata": {
        "id": "Y_V3Sfv1CsXb"
      },
      "execution_count": null,
      "outputs": []
    },
    {
      "cell_type": "code",
      "execution_count": null,
      "metadata": {
        "id": "psksYUOy_S0Z"
      },
      "outputs": [],
      "source": [
        "#Submission\n",
        "sample_submission = pd.read_csv('sample_submission_sample.csv')\n",
        "sample_submission\n",
        "\n",
        "sample_submission['Click'] = pred[:,1]\n",
        "sample_submission\n",
        "\n",
        "sample_submission.to_csv('baseline_submission.csv', index=False)"
      ]
    }
  ]
}