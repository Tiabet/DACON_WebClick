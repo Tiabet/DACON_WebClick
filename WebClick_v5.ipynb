{
  "nbformat": 4,
  "nbformat_minor": 0,
  "metadata": {
    "colab": {
      "provenance": [],
      "machine_shape": "hm",
      "gpuType": "L4",
      "mount_file_id": "1pKvMRu_IfK-7ZPkeiUef6ovunUCDsrvp",
      "authorship_tag": "ABX9TyN4TxU81494kq5VbugYoJOv",
      "include_colab_link": true
    },
    "kernelspec": {
      "name": "python3",
      "display_name": "Python 3"
    },
    "language_info": {
      "name": "python"
    },
    "accelerator": "GPU"
  },
  "cells": [
    {
      "cell_type": "markdown",
      "metadata": {
        "id": "view-in-github",
        "colab_type": "text"
      },
      "source": [
        "<a href=\"https://colab.research.google.com/github/Tiabet/DACON_WebClick/blob/main/WebClick_v5.ipynb\" target=\"_parent\"><img src=\"https://colab.research.google.com/assets/colab-badge.svg\" alt=\"Open In Colab\"/></a>"
      ]
    },
    {
      "cell_type": "code",
      "execution_count": 1,
      "metadata": {
        "id": "ceTO5DCIUDOO"
      },
      "outputs": [],
      "source": [
        "import pandas as pd\n",
        "import matplotlib.pyplot as plt\n",
        "import random\n",
        "import numpy as np\n",
        "import os\n",
        "from sklearn.model_selection import train_test_split\n",
        "from sklearn.preprocessing import LabelEncoder"
      ]
    },
    {
      "cell_type": "code",
      "source": [
        "train_x = pd.read_parquet('/content/drive/MyDrive/data/train_v4.parquet')\n",
        "test_x = pd.read_parquet('/content/drive/MyDrive/data/test_v4.parquet')\n",
        "train_y = pd.read_csv('/content/drive/MyDrive/data/train_y_v4.csv')"
      ],
      "metadata": {
        "id": "gqNZ2xMJULOm"
      },
      "execution_count": 2,
      "outputs": []
    },
    {
      "cell_type": "code",
      "source": [
        "# Split the dataset into training and validation sets\n",
        "X_train, X_val, y_train, y_val = train_test_split(train_x, train_y, test_size=0.2, random_state=42)"
      ],
      "metadata": {
        "id": "DjAqUYO7Ujkm"
      },
      "execution_count": 4,
      "outputs": []
    },
    {
      "cell_type": "code",
      "source": [
        "pip install optuna"
      ],
      "metadata": {
        "colab": {
          "base_uri": "https://localhost:8080/"
        },
        "id": "JhmUu4MlVLaK",
        "outputId": "e6862bf0-9d76-41ae-9953-87a087af84c5"
      },
      "execution_count": null,
      "outputs": [
        {
          "output_type": "stream",
          "name": "stdout",
          "text": [
            "Requirement already satisfied: optuna in /usr/local/lib/python3.10/dist-packages (3.6.1)\n",
            "Requirement already satisfied: alembic>=1.5.0 in /usr/local/lib/python3.10/dist-packages (from optuna) (1.13.1)\n",
            "Requirement already satisfied: colorlog in /usr/local/lib/python3.10/dist-packages (from optuna) (6.8.2)\n",
            "Requirement already satisfied: numpy in /usr/local/lib/python3.10/dist-packages (from optuna) (1.25.2)\n",
            "Requirement already satisfied: packaging>=20.0 in /usr/local/lib/python3.10/dist-packages (from optuna) (24.0)\n",
            "Requirement already satisfied: sqlalchemy>=1.3.0 in /usr/local/lib/python3.10/dist-packages (from optuna) (2.0.30)\n",
            "Requirement already satisfied: tqdm in /usr/local/lib/python3.10/dist-packages (from optuna) (4.66.4)\n",
            "Requirement already satisfied: PyYAML in /usr/local/lib/python3.10/dist-packages (from optuna) (6.0.1)\n",
            "Requirement already satisfied: Mako in /usr/local/lib/python3.10/dist-packages (from alembic>=1.5.0->optuna) (1.3.5)\n",
            "Requirement already satisfied: typing-extensions>=4 in /usr/local/lib/python3.10/dist-packages (from alembic>=1.5.0->optuna) (4.11.0)\n",
            "Requirement already satisfied: greenlet!=0.4.17 in /usr/local/lib/python3.10/dist-packages (from sqlalchemy>=1.3.0->optuna) (3.0.3)\n",
            "Requirement already satisfied: MarkupSafe>=0.9.2 in /usr/local/lib/python3.10/dist-packages (from Mako->alembic>=1.5.0->optuna) (2.1.5)\n"
          ]
        }
      ]
    },
    {
      "cell_type": "code",
      "source": [],
      "metadata": {
        "id": "9bSpv82EZIQS"
      },
      "execution_count": null,
      "outputs": []
    },
    {
      "cell_type": "code",
      "source": [
        "# import optuna\n",
        "import lightgbm as lgb\n",
        "from sklearn.model_selection import train_test_split\n",
        "from sklearn.metrics import roc_auc_score\n",
        "from lightgbm import early_stopping"
      ],
      "metadata": {
        "id": "d2y6U-xwVM0I"
      },
      "execution_count": 8,
      "outputs": []
    },
    {
      "cell_type": "code",
      "source": [
        "# Ensure the indices of X_train and y_train are aligned\n",
        "X_train, y_train = X_train.align(y_train, join='inner', axis=0)\n",
        "X_val, y_val = X_val.align(y_val, join='inner', axis=0)\n",
        "\n",
        "X_train_subset = X_train.sample(frac=0.3, random_state=42)\n",
        "y_train_subset = y_train.loc[X_train_subset.index].values.ravel()\n",
        "X_val_subset = X_val.sample(frac=0.3, random_state=42)\n",
        "y_val_subset = y_val.loc[X_val_subset.index].values.ravel()"
      ],
      "metadata": {
        "id": "iS83vCTwX1VP"
      },
      "execution_count": 5,
      "outputs": []
    },
    {
      "cell_type": "code",
      "source": [
        "# Define the objective function\n",
        "def objective(trial):\n",
        "    # Define the search space for the hyperparameters\n",
        "    param = {\n",
        "        'objective': 'binary',\n",
        "        'metric': 'auc',\n",
        "        'verbosity': -1,\n",
        "        'boosting_type': 'gbdt',\n",
        "        # 'num_leaves': trial.suggest_int('num_leaves', 100, 256),\n",
        "        #'max_depth': trial.suggest_int('max_depth',3, 100),\n",
        "        'max_bin' : 511,\n",
        "        'learning_rate': trial.suggest_float('learning_rate', 1e-2, 1),\n",
        "        'n_estimators': trial.suggest_int('n_estimators', 5000,9999),\n",
        "        'min_child_samples': trial.suggest_int('min_child_samples', 5, 100),\n",
        "        'subsample': trial.suggest_float('subsample', 0.4, 1.0),\n",
        "        # 'colsample_bytree': trial.suggest_float('colsample_bytree', 0.4, 1.0),\n",
        "        # 'reg_alpha' : 0.04538159470655356,\n",
        "        # 'reg_lambda':0.2207903936520441,\n",
        "    }\n",
        "\n",
        "    # Create and train the model\n",
        "    model = lgb.LGBMClassifier(**param)\n",
        "    # Use smaller subset of the data\n",
        "\n",
        "    model.fit(X_train_subset, y_train_subset, eval_set=[(X_val_subset, y_val_subset)], callbacks=[early_stopping(stopping_rounds=10)])\n",
        "\n",
        "    # Predict and calculate AUC\n",
        "    y_pred = model.predict_proba(X_val_subset)[:, 1]\n",
        "    auc = roc_auc_score(y_val_subset, y_pred)\n",
        "\n",
        "    return auc"
      ],
      "metadata": {
        "id": "jLb1O7hgVNwC"
      },
      "execution_count": 6,
      "outputs": []
    },
    {
      "cell_type": "code",
      "source": [
        "# # Create a study and optimize the objective function\n",
        "# study = optuna.create_study(direction='maximize')\n",
        "# study.optimize(objective, n_trials=50)"
      ],
      "metadata": {
        "colab": {
          "base_uri": "https://localhost:8080/"
        },
        "id": "9HzvkhGDXrcI",
        "outputId": "0ff2f2b0-8215-4933-99e5-0924ab411784"
      },
      "execution_count": null,
      "outputs": [
        {
          "metadata": {
            "tags": null
          },
          "name": "stderr",
          "output_type": "stream",
          "text": [
            "[I 2024-06-01 06:21:34,461] A new study created in memory with name: no-name-3043306e-a4eb-4de2-a18c-29e143da61f4\n"
          ]
        },
        {
          "metadata": {
            "tags": null
          },
          "name": "stdout",
          "output_type": "stream",
          "text": [
            "Training until validation scores don't improve for 10 rounds\n",
            "Early stopping, best iteration is:\n",
            "[528]\tvalid_0's auc: 0.758111\n"
          ]
        },
        {
          "metadata": {
            "tags": null
          },
          "name": "stderr",
          "output_type": "stream",
          "text": [
            "[I 2024-06-01 06:22:38,396] Trial 0 finished with value: 0.758110902196319 and parameters: {'learning_rate': 0.2654502716338261, 'n_estimators': 7344, 'min_child_samples': 85, 'subsample': 0.8573375584210093}. Best is trial 0 with value: 0.758110902196319.\n"
          ]
        },
        {
          "metadata": {
            "tags": null
          },
          "name": "stdout",
          "output_type": "stream",
          "text": [
            "Training until validation scores don't improve for 10 rounds\n",
            "Early stopping, best iteration is:\n",
            "[3126]\tvalid_0's auc: 0.761741\n"
          ]
        },
        {
          "metadata": {
            "tags": null
          },
          "name": "stderr",
          "output_type": "stream",
          "text": [
            "[I 2024-06-01 06:28:33,042] Trial 1 finished with value: 0.7617406662119129 and parameters: {'learning_rate': 0.05970963691193956, 'n_estimators': 8535, 'min_child_samples': 97, 'subsample': 0.8864968691886133}. Best is trial 1 with value: 0.7617406662119129.\n"
          ]
        },
        {
          "metadata": {
            "tags": null
          },
          "name": "stdout",
          "output_type": "stream",
          "text": [
            "Training until validation scores don't improve for 10 rounds\n",
            "Early stopping, best iteration is:\n",
            "[448]\tvalid_0's auc: 0.757286\n"
          ]
        },
        {
          "metadata": {
            "tags": null
          },
          "name": "stderr",
          "output_type": "stream",
          "text": [
            "[I 2024-06-01 06:29:28,451] Trial 2 finished with value: 0.7572858578173943 and parameters: {'learning_rate': 0.4441483354285824, 'n_estimators': 7482, 'min_child_samples': 100, 'subsample': 0.8115123677462416}. Best is trial 1 with value: 0.7617406662119129.\n"
          ]
        },
        {
          "metadata": {
            "tags": null
          },
          "name": "stdout",
          "output_type": "stream",
          "text": [
            "Training until validation scores don't improve for 10 rounds\n",
            "Early stopping, best iteration is:\n",
            "[211]\tvalid_0's auc: 0.750608\n"
          ]
        },
        {
          "metadata": {
            "tags": null
          },
          "name": "stderr",
          "output_type": "stream",
          "text": [
            "[I 2024-06-01 06:29:58,517] Trial 3 finished with value: 0.7506081517052479 and parameters: {'learning_rate': 0.8373280551636691, 'n_estimators': 9450, 'min_child_samples': 86, 'subsample': 0.47608989899770876}. Best is trial 1 with value: 0.7617406662119129.\n"
          ]
        },
        {
          "metadata": {
            "tags": null
          },
          "name": "stdout",
          "output_type": "stream",
          "text": [
            "Training until validation scores don't improve for 10 rounds\n",
            "Early stopping, best iteration is:\n",
            "[938]\tvalid_0's auc: 0.760722\n"
          ]
        },
        {
          "metadata": {
            "tags": null
          },
          "name": "stderr",
          "output_type": "stream",
          "text": [
            "[I 2024-06-01 06:31:47,370] Trial 4 finished with value: 0.7607223202926068 and parameters: {'learning_rate': 0.200246540226833, 'n_estimators': 8070, 'min_child_samples': 84, 'subsample': 0.901688713204223}. Best is trial 1 with value: 0.7617406662119129.\n"
          ]
        },
        {
          "metadata": {
            "tags": null
          },
          "name": "stdout",
          "output_type": "stream",
          "text": [
            "Training until validation scores don't improve for 10 rounds\n",
            "Early stopping, best iteration is:\n",
            "[2699]\tvalid_0's auc: 0.761465\n"
          ]
        },
        {
          "metadata": {
            "tags": null
          },
          "name": "stderr",
          "output_type": "stream",
          "text": [
            "[I 2024-06-01 06:36:53,520] Trial 5 finished with value: 0.7614645680442839 and parameters: {'learning_rate': 0.06982773735508192, 'n_estimators': 6583, 'min_child_samples': 51, 'subsample': 0.6139433596000521}. Best is trial 1 with value: 0.7617406662119129.\n"
          ]
        },
        {
          "metadata": {
            "tags": null
          },
          "name": "stdout",
          "output_type": "stream",
          "text": [
            "Training until validation scores don't improve for 10 rounds\n",
            "Early stopping, best iteration is:\n",
            "[320]\tvalid_0's auc: 0.753929\n"
          ]
        },
        {
          "metadata": {
            "tags": null
          },
          "name": "stderr",
          "output_type": "stream",
          "text": [
            "[I 2024-06-01 06:37:34,136] Trial 6 finished with value: 0.7539291901895855 and parameters: {'learning_rate': 0.641809703148593, 'n_estimators': 9445, 'min_child_samples': 96, 'subsample': 0.4742726409297101}. Best is trial 1 with value: 0.7617406662119129.\n"
          ]
        },
        {
          "metadata": {
            "tags": null
          },
          "name": "stdout",
          "output_type": "stream",
          "text": [
            "Training until validation scores don't improve for 10 rounds\n",
            "Early stopping, best iteration is:\n",
            "[465]\tvalid_0's auc: 0.757055\n"
          ]
        },
        {
          "metadata": {
            "tags": null
          },
          "name": "stderr",
          "output_type": "stream",
          "text": [
            "[I 2024-06-01 06:38:29,723] Trial 7 finished with value: 0.7570553261842913 and parameters: {'learning_rate': 0.39820584348064053, 'n_estimators': 7982, 'min_child_samples': 67, 'subsample': 0.5734155461607845}. Best is trial 1 with value: 0.7617406662119129.\n"
          ]
        },
        {
          "metadata": {
            "tags": null
          },
          "name": "stdout",
          "output_type": "stream",
          "text": [
            "Training until validation scores don't improve for 10 rounds\n",
            "Early stopping, best iteration is:\n",
            "[2198]\tvalid_0's auc: 0.762\n"
          ]
        },
        {
          "metadata": {
            "tags": null
          },
          "name": "stderr",
          "output_type": "stream",
          "text": [
            "[I 2024-06-01 06:42:36,104] Trial 8 finished with value: 0.7619996025885957 and parameters: {'learning_rate': 0.09174121861206254, 'n_estimators': 5449, 'min_child_samples': 72, 'subsample': 0.5422459969581143}. Best is trial 8 with value: 0.7619996025885957.\n"
          ]
        },
        {
          "metadata": {
            "tags": null
          },
          "name": "stdout",
          "output_type": "stream",
          "text": [
            "Training until validation scores don't improve for 10 rounds\n",
            "Early stopping, best iteration is:\n",
            "[775]\tvalid_0's auc: 0.758868\n"
          ]
        },
        {
          "metadata": {
            "tags": null
          },
          "name": "stderr",
          "output_type": "stream",
          "text": [
            "[I 2024-06-01 06:44:10,147] Trial 9 finished with value: 0.7588682997450775 and parameters: {'learning_rate': 0.18492024204937912, 'n_estimators': 5653, 'min_child_samples': 52, 'subsample': 0.9329800892952395}. Best is trial 8 with value: 0.7619996025885957.\n"
          ]
        },
        {
          "metadata": {
            "tags": null
          },
          "name": "stdout",
          "output_type": "stream",
          "text": [
            "Training until validation scores don't improve for 10 rounds\n",
            "Early stopping, best iteration is:\n",
            "[142]\tvalid_0's auc: 0.747924\n"
          ]
        },
        {
          "metadata": {
            "tags": null
          },
          "name": "stderr",
          "output_type": "stream",
          "text": [
            "[I 2024-06-01 06:44:32,720] Trial 10 finished with value: 0.7479238896569977 and parameters: {'learning_rate': 0.9917015372298144, 'n_estimators': 5188, 'min_child_samples': 20, 'subsample': 0.7049181011808969}. Best is trial 8 with value: 0.7619996025885957.\n"
          ]
        },
        {
          "output_type": "stream",
          "name": "stdout",
          "text": [
            "Training until validation scores don't improve for 10 rounds\n",
            "Early stopping, best iteration is:\n",
            "[8294]\tvalid_0's auc: 0.761051\n"
          ]
        },
        {
          "output_type": "stream",
          "name": "stderr",
          "text": [
            "[I 2024-06-01 07:00:13,854] Trial 11 finished with value: 0.761051323699565 and parameters: {'learning_rate': 0.01954582761331132, 'n_estimators': 8647, 'min_child_samples': 73, 'subsample': 0.7448860344618962}. Best is trial 8 with value: 0.7619996025885957.\n"
          ]
        },
        {
          "output_type": "stream",
          "name": "stdout",
          "text": [
            "Training until validation scores don't improve for 10 rounds\n",
            "Did not meet early stopping. Best iteration is:\n",
            "[6392]\tvalid_0's auc: 0.754774\n"
          ]
        },
        {
          "output_type": "stream",
          "name": "stderr",
          "text": [
            "[I 2024-06-01 07:13:35,403] Trial 12 finished with value: 0.7547736966584954 and parameters: {'learning_rate': 0.011545110100914871, 'n_estimators': 6392, 'min_child_samples': 33, 'subsample': 0.6026963291480207}. Best is trial 8 with value: 0.7619996025885957.\n"
          ]
        },
        {
          "output_type": "stream",
          "name": "stdout",
          "text": [
            "Training until validation scores don't improve for 10 rounds\n",
            "Early stopping, best iteration is:\n",
            "[205]\tvalid_0's auc: 0.752708\n"
          ]
        },
        {
          "output_type": "stream",
          "name": "stderr",
          "text": [
            "[I 2024-06-01 07:14:05,760] Trial 13 finished with value: 0.7527076459982978 and parameters: {'learning_rate': 0.5933418275915928, 'n_estimators': 8724, 'min_child_samples': 68, 'subsample': 0.4081503203025884}. Best is trial 8 with value: 0.7619996025885957.\n"
          ]
        },
        {
          "output_type": "stream",
          "name": "stdout",
          "text": [
            "Training until validation scores don't improve for 10 rounds\n",
            "Early stopping, best iteration is:\n",
            "[447]\tvalid_0's auc: 0.756514\n"
          ]
        },
        {
          "output_type": "stream",
          "name": "stderr",
          "text": [
            "[I 2024-06-01 07:15:01,252] Trial 14 finished with value: 0.7565139766741728 and parameters: {'learning_rate': 0.2910024512243057, 'n_estimators': 9976, 'min_child_samples': 5, 'subsample': 0.977607865100681}. Best is trial 8 with value: 0.7619996025885957.\n"
          ]
        },
        {
          "output_type": "stream",
          "name": "stdout",
          "text": [
            "Training until validation scores don't improve for 10 rounds\n",
            "Early stopping, best iteration is:\n",
            "[1848]\tvalid_0's auc: 0.762069\n"
          ]
        },
        {
          "output_type": "stream",
          "name": "stderr",
          "text": [
            "[I 2024-06-01 07:18:28,077] Trial 15 finished with value: 0.7620687195521929 and parameters: {'learning_rate': 0.12263749290211427, 'n_estimators': 6612, 'min_child_samples': 60, 'subsample': 0.7887566600252948}. Best is trial 15 with value: 0.7620687195521929.\n"
          ]
        },
        {
          "output_type": "stream",
          "name": "stdout",
          "text": [
            "Training until validation scores don't improve for 10 rounds\n",
            "Early stopping, best iteration is:\n",
            "[484]\tvalid_0's auc: 0.757761\n"
          ]
        },
        {
          "output_type": "stream",
          "name": "stderr",
          "text": [
            "[I 2024-06-01 07:19:26,459] Trial 16 finished with value: 0.7577611543820051 and parameters: {'learning_rate': 0.3133046652128022, 'n_estimators': 6243, 'min_child_samples': 43, 'subsample': 0.7880671839617044}. Best is trial 15 with value: 0.7620687195521929.\n"
          ]
        },
        {
          "output_type": "stream",
          "name": "stdout",
          "text": [
            "Training until validation scores don't improve for 10 rounds\n",
            "Early stopping, best iteration is:\n",
            "[925]\tvalid_0's auc: 0.759246\n"
          ]
        },
        {
          "output_type": "stream",
          "name": "stderr",
          "text": [
            "[I 2024-06-01 07:21:16,463] Trial 17 finished with value: 0.7592463838776122 and parameters: {'learning_rate': 0.14937697735175695, 'n_estimators': 5642, 'min_child_samples': 61, 'subsample': 0.6598819176841364}. Best is trial 15 with value: 0.7620687195521929.\n"
          ]
        },
        {
          "output_type": "stream",
          "name": "stdout",
          "text": [
            "Training until validation scores don't improve for 10 rounds\n",
            "Early stopping, best iteration is:\n",
            "[285]\tvalid_0's auc: 0.754442\n"
          ]
        },
        {
          "output_type": "stream",
          "name": "stderr",
          "text": [
            "[I 2024-06-01 07:21:54,185] Trial 18 finished with value: 0.7544423781652073 and parameters: {'learning_rate': 0.5713439599071963, 'n_estimators': 6971, 'min_child_samples': 34, 'subsample': 0.5358233888785906}. Best is trial 15 with value: 0.7620687195521929.\n"
          ]
        },
        {
          "output_type": "stream",
          "name": "stdout",
          "text": [
            "Training until validation scores don't improve for 10 rounds\n",
            "Early stopping, best iteration is:\n",
            "[227]\tvalid_0's auc: 0.752378\n"
          ]
        },
        {
          "output_type": "stream",
          "name": "stderr",
          "text": [
            "[I 2024-06-01 07:22:29,968] Trial 19 finished with value: 0.7523783522536415 and parameters: {'learning_rate': 0.7013518499609731, 'n_estimators': 5037, 'min_child_samples': 77, 'subsample': 0.6968535479538533}. Best is trial 15 with value: 0.7620687195521929.\n"
          ]
        },
        {
          "output_type": "stream",
          "name": "stdout",
          "text": [
            "Training until validation scores don't improve for 10 rounds\n",
            "Early stopping, best iteration is:\n",
            "[310]\tvalid_0's auc: 0.755548\n"
          ]
        },
        {
          "output_type": "stream",
          "name": "stderr",
          "text": [
            "[I 2024-06-01 07:23:11,958] Trial 20 finished with value: 0.755548362665473 and parameters: {'learning_rate': 0.3970857572390236, 'n_estimators': 5762, 'min_child_samples': 58, 'subsample': 0.5095959122091469}. Best is trial 15 with value: 0.7620687195521929.\n"
          ]
        },
        {
          "output_type": "stream",
          "name": "stdout",
          "text": [
            "Training until validation scores don't improve for 10 rounds\n",
            "Early stopping, best iteration is:\n",
            "[1671]\tvalid_0's auc: 0.761861\n"
          ]
        },
        {
          "output_type": "stream",
          "name": "stderr",
          "text": [
            "[I 2024-06-01 07:26:16,699] Trial 21 finished with value: 0.7618607293382559 and parameters: {'learning_rate': 0.12305623049011893, 'n_estimators': 6936, 'min_child_samples': 90, 'subsample': 0.8464630246773776}. Best is trial 15 with value: 0.7620687195521929.\n"
          ]
        },
        {
          "output_type": "stream",
          "name": "stdout",
          "text": [
            "Training until validation scores don't improve for 10 rounds\n",
            "Early stopping, best iteration is:\n",
            "[1459]\tvalid_0's auc: 0.76131\n"
          ]
        },
        {
          "output_type": "stream",
          "name": "stderr",
          "text": [
            "[I 2024-06-01 07:29:17,044] Trial 22 finished with value: 0.7613103999623221 and parameters: {'learning_rate': 0.1318306090410647, 'n_estimators': 6727, 'min_child_samples': 79, 'subsample': 0.8170382757193538}. Best is trial 15 with value: 0.7620687195521929.\n"
          ]
        },
        {
          "output_type": "stream",
          "name": "stdout",
          "text": [
            "Training until validation scores don't improve for 10 rounds\n",
            "Early stopping, best iteration is:\n",
            "[1026]\tvalid_0's auc: 0.760786\n"
          ]
        },
        {
          "output_type": "stream",
          "name": "stderr",
          "text": [
            "[I 2024-06-01 07:31:10,610] Trial 23 finished with value: 0.7607862623310142 and parameters: {'learning_rate': 0.21184716843131668, 'n_estimators': 6058, 'min_child_samples': 65, 'subsample': 0.7589188999836686}. Best is trial 15 with value: 0.7620687195521929.\n"
          ]
        },
        {
          "output_type": "stream",
          "name": "stdout",
          "text": [
            "Training until validation scores don't improve for 10 rounds\n",
            "Early stopping, best iteration is:\n",
            "[1864]\tvalid_0's auc: 0.761543\n"
          ]
        },
        {
          "output_type": "stream",
          "name": "stderr",
          "text": [
            "[I 2024-06-01 07:34:37,033] Trial 24 finished with value: 0.7615433141445745 and parameters: {'learning_rate': 0.10297420796291067, 'n_estimators': 7099, 'min_child_samples': 90, 'subsample': 0.8368360218155569}. Best is trial 15 with value: 0.7620687195521929.\n"
          ]
        },
        {
          "output_type": "stream",
          "name": "stdout",
          "text": [
            "Training until validation scores don't improve for 10 rounds\n",
            "Early stopping, best iteration is:\n",
            "[705]\tvalid_0's auc: 0.758963\n"
          ]
        },
        {
          "output_type": "stream",
          "name": "stderr",
          "text": [
            "[I 2024-06-01 07:36:02,785] Trial 25 finished with value: 0.7589626865733573 and parameters: {'learning_rate': 0.3480557936550633, 'n_estimators': 5992, 'min_child_samples': 74, 'subsample': 0.6571833839795013}. Best is trial 15 with value: 0.7620687195521929.\n"
          ]
        },
        {
          "output_type": "stream",
          "name": "stdout",
          "text": [
            "Training until validation scores don't improve for 10 rounds\n",
            "Early stopping, best iteration is:\n",
            "[620]\tvalid_0's auc: 0.758446\n"
          ]
        },
        {
          "output_type": "stream",
          "name": "stderr",
          "text": [
            "[I 2024-06-01 07:37:15,636] Trial 26 finished with value: 0.7584463006881775 and parameters: {'learning_rate': 0.2460649546852211, 'n_estimators': 5403, 'min_child_samples': 46, 'subsample': 0.9955324313252112}. Best is trial 15 with value: 0.7620687195521929.\n"
          ]
        },
        {
          "output_type": "stream",
          "name": "stdout",
          "text": [
            "Training until validation scores don't improve for 10 rounds\n",
            "Early stopping, best iteration is:\n",
            "[1640]\tvalid_0's auc: 0.761909\n"
          ]
        },
        {
          "output_type": "stream",
          "name": "stderr",
          "text": [
            "[I 2024-06-01 07:40:15,176] Trial 27 finished with value: 0.7619094902410904 and parameters: {'learning_rate': 0.126709900153068, 'n_estimators': 7827, 'min_child_samples': 92, 'subsample': 0.7466939242987645}. Best is trial 15 with value: 0.7620687195521929.\n"
          ]
        },
        {
          "output_type": "stream",
          "name": "stdout",
          "text": [
            "Training until validation scores don't improve for 10 rounds\n",
            "Early stopping, best iteration is:\n",
            "[387]\tvalid_0's auc: 0.756131\n"
          ]
        },
        {
          "output_type": "stream",
          "name": "stderr",
          "text": [
            "[I 2024-06-01 07:41:00,835] Trial 28 finished with value: 0.7561307401174856 and parameters: {'learning_rate': 0.4748366341329686, 'n_estimators': 7717, 'min_child_samples': 59, 'subsample': 0.7287670786694874}. Best is trial 15 with value: 0.7620687195521929.\n"
          ]
        },
        {
          "output_type": "stream",
          "name": "stdout",
          "text": [
            "Training until validation scores don't improve for 10 rounds\n",
            "Early stopping, best iteration is:\n",
            "[642]\tvalid_0's auc: 0.758951\n"
          ]
        },
        {
          "output_type": "stream",
          "name": "stderr",
          "text": [
            "[I 2024-06-01 07:42:13,795] Trial 29 finished with value: 0.7589512972699666 and parameters: {'learning_rate': 0.272048054609409, 'n_estimators': 7393, 'min_child_samples': 82, 'subsample': 0.7800061657163138}. Best is trial 15 with value: 0.7620687195521929.\n"
          ]
        },
        {
          "output_type": "stream",
          "name": "stdout",
          "text": [
            "Training until validation scores don't improve for 10 rounds\n"
          ]
        }
      ]
    },
    {
      "cell_type": "code",
      "source": [
        "sample_submission = pd.read_csv('drive/MyDrive/data/sample_submission.csv')\n",
        "\n",
        "best_param = {'objective': 'binary',\n",
        "        'metric': 'auc',\n",
        "        'verbosity': -1,\n",
        "        'boosting_type': 'gbdt','learning_rate': 0.12263749290211427, 'max_bin' : 1023,'n_estimators': 6612, 'min_child_samples': 60, 'subsample': 0.7887566600252948\n",
        "\n",
        "}\n",
        "\n",
        "model = lgb.LGBMClassifier(**best_param)\n",
        "\n",
        "model.fit(X_train_subset, y_train_subset, eval_set=[(X_val_subset, y_val_subset)], callbacks=[early_stopping(stopping_rounds=10)])\n",
        "\n",
        "# Predict probabilities on the test set\n",
        "y_pred_test_proba = model.predict_proba(test_x)[:, 1]\n",
        "\n",
        "# Output the probabilities for test set\n",
        "print(y_pred_test_proba)"
      ],
      "metadata": {
        "id": "bxQYOwNGXvY-",
        "colab": {
          "base_uri": "https://localhost:8080/"
        },
        "outputId": "0fc1f127-31e0-4d48-f2cc-bb04053c95d1"
      },
      "execution_count": null,
      "outputs": [
        {
          "output_type": "stream",
          "name": "stdout",
          "text": [
            "Training until validation scores don't improve for 10 rounds\n"
          ]
        }
      ]
    },
    {
      "cell_type": "code",
      "source": [
        "sample_submission['Click'] = y_pred_test_proba\n",
        "sample_submission"
      ],
      "metadata": {
        "id": "RavEYBl8nYeM"
      },
      "execution_count": null,
      "outputs": []
    },
    {
      "cell_type": "code",
      "source": [
        "sample_submission.to_csv(\"drive/MyDrive/data/lgbm_prediction_v4.csv\",index = False)"
      ],
      "metadata": {
        "id": "I2HIDmQrnZTE"
      },
      "execution_count": null,
      "outputs": []
    }
  ]
}