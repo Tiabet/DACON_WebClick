{
  "cells": [
    {
      "cell_type": "markdown",
      "metadata": {
        "id": "view-in-github",
        "colab_type": "text"
      },
      "source": [
        "<a href=\"https://colab.research.google.com/github/Tiabet/DACON_WebClick/blob/main/WebClick_V3.ipynb\" target=\"_parent\"><img src=\"https://colab.research.google.com/assets/colab-badge.svg\" alt=\"Open In Colab\"/></a>"
      ]
    },
    {
      "cell_type": "code",
      "execution_count": null,
      "metadata": {
        "id": "c8OOSzUjAbpM"
      },
      "outputs": [],
      "source": [
        "import pandas as pd\n",
        "import matplotlib.pyplot as plt\n",
        "import random\n",
        "import numpy as np\n",
        "import os\n",
        "from sklearn.model_selection import train_test_split\n",
        "from sklearn.preprocessing import LabelEncoder"
      ]
    },
    {
      "cell_type": "code",
      "execution_count": null,
      "metadata": {
        "id": "BDzCE3nXCZwP"
      },
      "outputs": [],
      "source": [
        "train = pd.read_parquet('/content/drive/MyDrive/data/train.parquet')\n",
        "test =  pd.read_parquet('/content/drive/MyDrive/data/test.parquet')"
      ]
    },
    {
      "cell_type": "code",
      "execution_count": null,
      "metadata": {
        "id": "Q-fbhiHLCb02"
      },
      "outputs": [],
      "source": [
        "# 동일한 결과 보장을 위해 Seed값을 고정합니다\n",
        "def seed_everything(seed):\n",
        "    random.seed(seed)\n",
        "    os.environ['PYTHONHASHSEED'] = str(seed)\n",
        "    np.random.seed(seed)\n",
        "\n",
        "seed_everything(42) # Seed를 42로 고정"
      ]
    },
    {
      "cell_type": "code",
      "execution_count": null,
      "metadata": {
        "colab": {
          "base_uri": "https://localhost:8080/",
          "height": 256
        },
        "id": "Sx7oRaRxEEqf",
        "outputId": "d2484fd1-23e1-494f-9458-85272b5a0cd7"
      },
      "outputs": [
        {
          "data": {
            "application/vnd.google.colaboratory.intrinsic+json": {
              "type": "dataframe",
              "variable_name": "train"
            },
            "text/html": [
              "\n",
              "  <div id=\"df-1596e3ee-982b-4630-9ef0-15d48ac6a524\" class=\"colab-df-container\">\n",
              "    <div>\n",
              "<style scoped>\n",
              "    .dataframe tbody tr th:only-of-type {\n",
              "        vertical-align: middle;\n",
              "    }\n",
              "\n",
              "    .dataframe tbody tr th {\n",
              "        vertical-align: top;\n",
              "    }\n",
              "\n",
              "    .dataframe thead th {\n",
              "        text-align: right;\n",
              "    }\n",
              "</style>\n",
              "<table border=\"1\" class=\"dataframe\">\n",
              "  <thead>\n",
              "    <tr style=\"text-align: right;\">\n",
              "      <th></th>\n",
              "      <th>Click</th>\n",
              "      <th>F01</th>\n",
              "      <th>F02</th>\n",
              "      <th>F03</th>\n",
              "      <th>F04</th>\n",
              "      <th>F05</th>\n",
              "      <th>F06</th>\n",
              "      <th>F07</th>\n",
              "      <th>F08</th>\n",
              "      <th>F09</th>\n",
              "      <th>...</th>\n",
              "      <th>F30</th>\n",
              "      <th>F31</th>\n",
              "      <th>F32</th>\n",
              "      <th>F33</th>\n",
              "      <th>F34</th>\n",
              "      <th>F35</th>\n",
              "      <th>F36</th>\n",
              "      <th>F37</th>\n",
              "      <th>F38</th>\n",
              "      <th>F39</th>\n",
              "    </tr>\n",
              "  </thead>\n",
              "  <tbody>\n",
              "    <tr>\n",
              "      <th>0</th>\n",
              "      <td>1</td>\n",
              "      <td>NSLHFNS</td>\n",
              "      <td>AVKQTCL</td>\n",
              "      <td>DTZFPRW</td>\n",
              "      <td>114.0</td>\n",
              "      <td>ISVXFVA</td>\n",
              "      <td>1</td>\n",
              "      <td>PQZBVMG</td>\n",
              "      <td>LPYPUNA</td>\n",
              "      <td>IZYJZDA</td>\n",
              "      <td>...</td>\n",
              "      <td>NZGEZLW</td>\n",
              "      <td>GTISJWW</td>\n",
              "      <td>380.0</td>\n",
              "      <td>2.0</td>\n",
              "      <td>AXQFZWC</td>\n",
              "      <td>IRUDRFB</td>\n",
              "      <td>NaN</td>\n",
              "      <td>TFJMLCZ</td>\n",
              "      <td>0.0</td>\n",
              "      <td>AURZYDY</td>\n",
              "    </tr>\n",
              "    <tr>\n",
              "      <th>1</th>\n",
              "      <td>0</td>\n",
              "      <td>VGIVWZQ</td>\n",
              "      <td>LSUSMVO</td>\n",
              "      <td>PQGWFJZ</td>\n",
              "      <td>26.0</td>\n",
              "      <td>NFRVLWS</td>\n",
              "      <td>43</td>\n",
              "      <td>IMPIGJT</td>\n",
              "      <td>MIGYEEG</td>\n",
              "      <td>NGODWIN</td>\n",
              "      <td>...</td>\n",
              "      <td>NZGEZLW</td>\n",
              "      <td>GTISJWW</td>\n",
              "      <td>466.0</td>\n",
              "      <td>1.0</td>\n",
              "      <td>DRVVDHZ</td>\n",
              "      <td>IRUDRFB</td>\n",
              "      <td>19.0</td>\n",
              "      <td>AUGTURV</td>\n",
              "      <td>0.0</td>\n",
              "      <td>LUZRMLU</td>\n",
              "    </tr>\n",
              "    <tr>\n",
              "      <th>2</th>\n",
              "      <td>0</td>\n",
              "      <td>JCDXFYU</td>\n",
              "      <td>PILDDJU</td>\n",
              "      <td>IAGJDOH</td>\n",
              "      <td>119.0</td>\n",
              "      <td>LFPUEOV</td>\n",
              "      <td>0</td>\n",
              "      <td>FFUTIRZ</td>\n",
              "      <td>OFKQGTY</td>\n",
              "      <td>BEZTQIO</td>\n",
              "      <td>...</td>\n",
              "      <td>VHXETCF</td>\n",
              "      <td>KHZNEZF</td>\n",
              "      <td>197.0</td>\n",
              "      <td>0.0</td>\n",
              "      <td>QMOULXS</td>\n",
              "      <td>IRUDRFB</td>\n",
              "      <td>8.0</td>\n",
              "      <td>ZVSTLNM</td>\n",
              "      <td>0.0</td>\n",
              "      <td>MHBRSQK</td>\n",
              "    </tr>\n",
              "    <tr>\n",
              "      <th>3</th>\n",
              "      <td>1</td>\n",
              "      <td>PSMFWTP</td>\n",
              "      <td>ZYAVJHP</td>\n",
              "      <td>None</td>\n",
              "      <td>15.0</td>\n",
              "      <td>ATQPZSJ</td>\n",
              "      <td>26</td>\n",
              "      <td>ZDTZNSB</td>\n",
              "      <td>THBWWCD</td>\n",
              "      <td>LTETYBG</td>\n",
              "      <td>...</td>\n",
              "      <td>IVIRTPR</td>\n",
              "      <td>GTISJWW</td>\n",
              "      <td>8640.0</td>\n",
              "      <td>0.0</td>\n",
              "      <td>IZLJUJS</td>\n",
              "      <td>IRUDRFB</td>\n",
              "      <td>14.0</td>\n",
              "      <td>ZBSRLCQ</td>\n",
              "      <td>0.0</td>\n",
              "      <td>GAZBSSZ</td>\n",
              "    </tr>\n",
              "    <tr>\n",
              "      <th>4</th>\n",
              "      <td>0</td>\n",
              "      <td>SLCRICD</td>\n",
              "      <td>QPQWGXA</td>\n",
              "      <td>None</td>\n",
              "      <td>13.0</td>\n",
              "      <td>CHZGJZR</td>\n",
              "      <td>20</td>\n",
              "      <td>PQZBVMG</td>\n",
              "      <td>MIGYEEG</td>\n",
              "      <td>LJBQPJW</td>\n",
              "      <td>...</td>\n",
              "      <td>NZGEZLW</td>\n",
              "      <td>WHSRKIM</td>\n",
              "      <td>41774.0</td>\n",
              "      <td>0.0</td>\n",
              "      <td>BHBIZCL</td>\n",
              "      <td>IRUDRFB</td>\n",
              "      <td>13.0</td>\n",
              "      <td>QHYLSBX</td>\n",
              "      <td>0.0</td>\n",
              "      <td>QTATWAY</td>\n",
              "    </tr>\n",
              "  </tbody>\n",
              "</table>\n",
              "<p>5 rows × 40 columns</p>\n",
              "</div>\n",
              "    <div class=\"colab-df-buttons\">\n",
              "\n",
              "  <div class=\"colab-df-container\">\n",
              "    <button class=\"colab-df-convert\" onclick=\"convertToInteractive('df-1596e3ee-982b-4630-9ef0-15d48ac6a524')\"\n",
              "            title=\"Convert this dataframe to an interactive table.\"\n",
              "            style=\"display:none;\">\n",
              "\n",
              "  <svg xmlns=\"http://www.w3.org/2000/svg\" height=\"24px\" viewBox=\"0 -960 960 960\">\n",
              "    <path d=\"M120-120v-720h720v720H120Zm60-500h600v-160H180v160Zm220 220h160v-160H400v160Zm0 220h160v-160H400v160ZM180-400h160v-160H180v160Zm440 0h160v-160H620v160ZM180-180h160v-160H180v160Zm440 0h160v-160H620v160Z\"/>\n",
              "  </svg>\n",
              "    </button>\n",
              "\n",
              "  <style>\n",
              "    .colab-df-container {\n",
              "      display:flex;\n",
              "      gap: 12px;\n",
              "    }\n",
              "\n",
              "    .colab-df-convert {\n",
              "      background-color: #E8F0FE;\n",
              "      border: none;\n",
              "      border-radius: 50%;\n",
              "      cursor: pointer;\n",
              "      display: none;\n",
              "      fill: #1967D2;\n",
              "      height: 32px;\n",
              "      padding: 0 0 0 0;\n",
              "      width: 32px;\n",
              "    }\n",
              "\n",
              "    .colab-df-convert:hover {\n",
              "      background-color: #E2EBFA;\n",
              "      box-shadow: 0px 1px 2px rgba(60, 64, 67, 0.3), 0px 1px 3px 1px rgba(60, 64, 67, 0.15);\n",
              "      fill: #174EA6;\n",
              "    }\n",
              "\n",
              "    .colab-df-buttons div {\n",
              "      margin-bottom: 4px;\n",
              "    }\n",
              "\n",
              "    [theme=dark] .colab-df-convert {\n",
              "      background-color: #3B4455;\n",
              "      fill: #D2E3FC;\n",
              "    }\n",
              "\n",
              "    [theme=dark] .colab-df-convert:hover {\n",
              "      background-color: #434B5C;\n",
              "      box-shadow: 0px 1px 3px 1px rgba(0, 0, 0, 0.15);\n",
              "      filter: drop-shadow(0px 1px 2px rgba(0, 0, 0, 0.3));\n",
              "      fill: #FFFFFF;\n",
              "    }\n",
              "  </style>\n",
              "\n",
              "    <script>\n",
              "      const buttonEl =\n",
              "        document.querySelector('#df-1596e3ee-982b-4630-9ef0-15d48ac6a524 button.colab-df-convert');\n",
              "      buttonEl.style.display =\n",
              "        google.colab.kernel.accessAllowed ? 'block' : 'none';\n",
              "\n",
              "      async function convertToInteractive(key) {\n",
              "        const element = document.querySelector('#df-1596e3ee-982b-4630-9ef0-15d48ac6a524');\n",
              "        const dataTable =\n",
              "          await google.colab.kernel.invokeFunction('convertToInteractive',\n",
              "                                                    [key], {});\n",
              "        if (!dataTable) return;\n",
              "\n",
              "        const docLinkHtml = 'Like what you see? Visit the ' +\n",
              "          '<a target=\"_blank\" href=https://colab.research.google.com/notebooks/data_table.ipynb>data table notebook</a>'\n",
              "          + ' to learn more about interactive tables.';\n",
              "        element.innerHTML = '';\n",
              "        dataTable['output_type'] = 'display_data';\n",
              "        await google.colab.output.renderOutput(dataTable, element);\n",
              "        const docLink = document.createElement('div');\n",
              "        docLink.innerHTML = docLinkHtml;\n",
              "        element.appendChild(docLink);\n",
              "      }\n",
              "    </script>\n",
              "  </div>\n",
              "\n",
              "\n",
              "<div id=\"df-e67e8963-4c94-4376-acc4-a8739077a3ee\">\n",
              "  <button class=\"colab-df-quickchart\" onclick=\"quickchart('df-e67e8963-4c94-4376-acc4-a8739077a3ee')\"\n",
              "            title=\"Suggest charts\"\n",
              "            style=\"display:none;\">\n",
              "\n",
              "<svg xmlns=\"http://www.w3.org/2000/svg\" height=\"24px\"viewBox=\"0 0 24 24\"\n",
              "     width=\"24px\">\n",
              "    <g>\n",
              "        <path d=\"M19 3H5c-1.1 0-2 .9-2 2v14c0 1.1.9 2 2 2h14c1.1 0 2-.9 2-2V5c0-1.1-.9-2-2-2zM9 17H7v-7h2v7zm4 0h-2V7h2v10zm4 0h-2v-4h2v4z\"/>\n",
              "    </g>\n",
              "</svg>\n",
              "  </button>\n",
              "\n",
              "<style>\n",
              "  .colab-df-quickchart {\n",
              "      --bg-color: #E8F0FE;\n",
              "      --fill-color: #1967D2;\n",
              "      --hover-bg-color: #E2EBFA;\n",
              "      --hover-fill-color: #174EA6;\n",
              "      --disabled-fill-color: #AAA;\n",
              "      --disabled-bg-color: #DDD;\n",
              "  }\n",
              "\n",
              "  [theme=dark] .colab-df-quickchart {\n",
              "      --bg-color: #3B4455;\n",
              "      --fill-color: #D2E3FC;\n",
              "      --hover-bg-color: #434B5C;\n",
              "      --hover-fill-color: #FFFFFF;\n",
              "      --disabled-bg-color: #3B4455;\n",
              "      --disabled-fill-color: #666;\n",
              "  }\n",
              "\n",
              "  .colab-df-quickchart {\n",
              "    background-color: var(--bg-color);\n",
              "    border: none;\n",
              "    border-radius: 50%;\n",
              "    cursor: pointer;\n",
              "    display: none;\n",
              "    fill: var(--fill-color);\n",
              "    height: 32px;\n",
              "    padding: 0;\n",
              "    width: 32px;\n",
              "  }\n",
              "\n",
              "  .colab-df-quickchart:hover {\n",
              "    background-color: var(--hover-bg-color);\n",
              "    box-shadow: 0 1px 2px rgba(60, 64, 67, 0.3), 0 1px 3px 1px rgba(60, 64, 67, 0.15);\n",
              "    fill: var(--button-hover-fill-color);\n",
              "  }\n",
              "\n",
              "  .colab-df-quickchart-complete:disabled,\n",
              "  .colab-df-quickchart-complete:disabled:hover {\n",
              "    background-color: var(--disabled-bg-color);\n",
              "    fill: var(--disabled-fill-color);\n",
              "    box-shadow: none;\n",
              "  }\n",
              "\n",
              "  .colab-df-spinner {\n",
              "    border: 2px solid var(--fill-color);\n",
              "    border-color: transparent;\n",
              "    border-bottom-color: var(--fill-color);\n",
              "    animation:\n",
              "      spin 1s steps(1) infinite;\n",
              "  }\n",
              "\n",
              "  @keyframes spin {\n",
              "    0% {\n",
              "      border-color: transparent;\n",
              "      border-bottom-color: var(--fill-color);\n",
              "      border-left-color: var(--fill-color);\n",
              "    }\n",
              "    20% {\n",
              "      border-color: transparent;\n",
              "      border-left-color: var(--fill-color);\n",
              "      border-top-color: var(--fill-color);\n",
              "    }\n",
              "    30% {\n",
              "      border-color: transparent;\n",
              "      border-left-color: var(--fill-color);\n",
              "      border-top-color: var(--fill-color);\n",
              "      border-right-color: var(--fill-color);\n",
              "    }\n",
              "    40% {\n",
              "      border-color: transparent;\n",
              "      border-right-color: var(--fill-color);\n",
              "      border-top-color: var(--fill-color);\n",
              "    }\n",
              "    60% {\n",
              "      border-color: transparent;\n",
              "      border-right-color: var(--fill-color);\n",
              "    }\n",
              "    80% {\n",
              "      border-color: transparent;\n",
              "      border-right-color: var(--fill-color);\n",
              "      border-bottom-color: var(--fill-color);\n",
              "    }\n",
              "    90% {\n",
              "      border-color: transparent;\n",
              "      border-bottom-color: var(--fill-color);\n",
              "    }\n",
              "  }\n",
              "</style>\n",
              "\n",
              "  <script>\n",
              "    async function quickchart(key) {\n",
              "      const quickchartButtonEl =\n",
              "        document.querySelector('#' + key + ' button');\n",
              "      quickchartButtonEl.disabled = true;  // To prevent multiple clicks.\n",
              "      quickchartButtonEl.classList.add('colab-df-spinner');\n",
              "      try {\n",
              "        const charts = await google.colab.kernel.invokeFunction(\n",
              "            'suggestCharts', [key], {});\n",
              "      } catch (error) {\n",
              "        console.error('Error during call to suggestCharts:', error);\n",
              "      }\n",
              "      quickchartButtonEl.classList.remove('colab-df-spinner');\n",
              "      quickchartButtonEl.classList.add('colab-df-quickchart-complete');\n",
              "    }\n",
              "    (() => {\n",
              "      let quickchartButtonEl =\n",
              "        document.querySelector('#df-e67e8963-4c94-4376-acc4-a8739077a3ee button');\n",
              "      quickchartButtonEl.style.display =\n",
              "        google.colab.kernel.accessAllowed ? 'block' : 'none';\n",
              "    })();\n",
              "  </script>\n",
              "</div>\n",
              "\n",
              "    </div>\n",
              "  </div>\n"
            ],
            "text/plain": [
              "   Click      F01      F02      F03    F04      F05  F06      F07      F08  \\\n",
              "0      1  NSLHFNS  AVKQTCL  DTZFPRW  114.0  ISVXFVA    1  PQZBVMG  LPYPUNA   \n",
              "1      0  VGIVWZQ  LSUSMVO  PQGWFJZ   26.0  NFRVLWS   43  IMPIGJT  MIGYEEG   \n",
              "2      0  JCDXFYU  PILDDJU  IAGJDOH  119.0  LFPUEOV    0  FFUTIRZ  OFKQGTY   \n",
              "3      1  PSMFWTP  ZYAVJHP     None   15.0  ATQPZSJ   26  ZDTZNSB  THBWWCD   \n",
              "4      0  SLCRICD  QPQWGXA     None   13.0  CHZGJZR   20  PQZBVMG  MIGYEEG   \n",
              "\n",
              "       F09  ...      F30      F31      F32  F33      F34      F35   F36  \\\n",
              "0  IZYJZDA  ...  NZGEZLW  GTISJWW    380.0  2.0  AXQFZWC  IRUDRFB   NaN   \n",
              "1  NGODWIN  ...  NZGEZLW  GTISJWW    466.0  1.0  DRVVDHZ  IRUDRFB  19.0   \n",
              "2  BEZTQIO  ...  VHXETCF  KHZNEZF    197.0  0.0  QMOULXS  IRUDRFB   8.0   \n",
              "3  LTETYBG  ...  IVIRTPR  GTISJWW   8640.0  0.0  IZLJUJS  IRUDRFB  14.0   \n",
              "4  LJBQPJW  ...  NZGEZLW  WHSRKIM  41774.0  0.0  BHBIZCL  IRUDRFB  13.0   \n",
              "\n",
              "       F37  F38      F39  \n",
              "0  TFJMLCZ  0.0  AURZYDY  \n",
              "1  AUGTURV  0.0  LUZRMLU  \n",
              "2  ZVSTLNM  0.0  MHBRSQK  \n",
              "3  ZBSRLCQ  0.0  GAZBSSZ  \n",
              "4  QHYLSBX  0.0  QTATWAY  \n",
              "\n",
              "[5 rows x 40 columns]"
            ]
          },
          "execution_count": 8,
          "metadata": {},
          "output_type": "execute_result"
        }
      ],
      "source": [
        "test.drop('ID', axis = 1, inplace = True)\n",
        "train.drop('ID', axis = 1, inplace = True)\n",
        "train.head()"
      ]
    },
    {
      "cell_type": "markdown",
      "metadata": {
        "id": "nvyqN7lCGxUb"
      },
      "source": [
        "의미없는 카테고리들 삭제"
      ]
    },
    {
      "cell_type": "code",
      "execution_count": null,
      "metadata": {
        "id": "lDjB-Z9cEcbH"
      },
      "outputs": [],
      "source": [
        "# Step 1: Identify the categories in the train set that appear 100,000 times or more\n",
        "category_thresholds = {}\n",
        "for column in train.columns:\n",
        "    if column != 'Click':\n",
        "        # Calculate the value counts for each column\n",
        "        value_counts = train[column].value_counts()\n",
        "\n",
        "        # Find values that appear 100,000 times or more\n",
        "        categories_to_keep = value_counts[value_counts >= 50000].index\n",
        "\n",
        "        # Store these categories for each column\n",
        "        category_thresholds[column] = categories_to_keep\n",
        "\n",
        "        # Replace values in train set that appear less than 100,000 times with NaN\n",
        "        train.loc[~train[column].isin(categories_to_keep), column] = pd.NA\n",
        "\n",
        "# Step 2: Apply these categories to the test set\n",
        "for column in test.columns:\n",
        "    if column != 'Click' and column in category_thresholds:\n",
        "        categories_to_keep = category_thresholds[column]\n",
        "\n",
        "        # Replace values in test set that are not in the categories_to_keep with NaN\n",
        "        test.loc[~test[column].isin(categories_to_keep), column] = pd.NA"
      ]
    },
    {
      "cell_type": "markdown",
      "metadata": {
        "id": "AsR5YOb5Gu0D"
      },
      "source": [
        "결측치채우기"
      ]
    },
    {
      "cell_type": "code",
      "execution_count": null,
      "metadata": {
        "id": "14RxFDXHF9WA"
      },
      "outputs": [],
      "source": [
        "import numpy as np\n",
        "\n",
        "# Function to fill NaNs based on existing distribution\n",
        "def fill_na_with_distribution(column):\n",
        "    counts = column.dropna().value_counts(normalize=True)\n",
        "    nans_to_fill = column.isna().sum()\n",
        "    fill_values = np.random.choice(counts.index, size=nans_to_fill, p=counts.values)\n",
        "    column.loc[column.isna()] = fill_values\n",
        "    return column\n",
        "\n",
        "# Apply the function to each column in DataFrame\n",
        "train = train.apply(fill_na_with_distribution, axis=0)\n",
        "test = test.apply(fill_na_with_distribution, axis=0)"
      ]
    },
    {
      "cell_type": "markdown",
      "metadata": {
        "id": "BMWZo2XWG40l"
      },
      "source": [
        "샘플링"
      ]
    },
    {
      "cell_type": "code",
      "execution_count": null,
      "metadata": {
        "id": "u95fBZjVGXu1"
      },
      "outputs": [],
      "source": [
        "train = train.groupby('Click').apply(lambda x: x.sample(min(len(x), len(test))))"
      ]
    },
    {
      "cell_type": "code",
      "execution_count": null,
      "metadata": {
        "id": "opXoM1wiG4NR"
      },
      "outputs": [],
      "source": [
        "train_x = train.drop('Click', axis = 1)\n",
        "train_y = train['Click']"
      ]
    },
    {
      "cell_type": "code",
      "execution_count": null,
      "metadata": {
        "id": "82nXTPgUHNWT"
      },
      "outputs": [],
      "source": [
        "del train"
      ]
    },
    {
      "cell_type": "code",
      "execution_count": null,
      "metadata": {
        "id": "ue07teR6HNoI"
      },
      "outputs": [],
      "source": [
        "# Label encode categorical columns\n",
        "def label_encode_columns(train_df, test_df):\n",
        "    le = LabelEncoder()\n",
        "    for column in train_df.columns:\n",
        "        if train_df[column].dtype == 'object' or isinstance(train_df[column].dtype, pd.CategoricalDtype):\n",
        "            # Fit the LabelEncoder on the combined data to ensure consistency\n",
        "            combined_data = pd.concat([train_df[column], test_df[column]], axis=0).astype(str)\n",
        "            le.fit(combined_data)\n",
        "            train_df[column] = le.transform(train_df[column].astype(str))\n",
        "            test_df[column] = le.transform(test_df[column].astype(str))\n",
        "    return train_df, test_df\n",
        "\n",
        "# Apply label encoding to train_x and test_x\n",
        "train_x, test_x = label_encode_columns(train_x, test)"
      ]
    },
    {
      "cell_type": "code",
      "execution_count": null,
      "metadata": {
        "colab": {
          "base_uri": "https://localhost:8080/",
          "height": 305
        },
        "id": "SynGpZ4lIBf2",
        "outputId": "89404a26-063f-42b7-e259-1a4f651611fd"
      },
      "outputs": [
        {
          "ename": "AttributeError",
          "evalue": "'Series' object has no attribute 'to_parquet'",
          "output_type": "error",
          "traceback": [
            "\u001b[0;31m---------------------------------------------------------------------------\u001b[0m",
            "\u001b[0;31mAttributeError\u001b[0m                            Traceback (most recent call last)",
            "\u001b[0;32m<ipython-input-22-f07a21d4c6dd>\u001b[0m in \u001b[0;36m<cell line: 3>\u001b[0;34m()\u001b[0m\n\u001b[1;32m      1\u001b[0m \u001b[0mtrain_x\u001b[0m\u001b[0;34m.\u001b[0m\u001b[0mto_parquet\u001b[0m\u001b[0;34m(\u001b[0m\u001b[0;34m'drive/MyDrive/data/train_v3.parquet'\u001b[0m\u001b[0;34m,\u001b[0m \u001b[0mcompression\u001b[0m \u001b[0;34m=\u001b[0m \u001b[0;34m'gzip'\u001b[0m\u001b[0;34m,\u001b[0m \u001b[0mengine\u001b[0m \u001b[0;34m=\u001b[0m \u001b[0;34m'pyarrow'\u001b[0m\u001b[0;34m,\u001b[0m \u001b[0mindex\u001b[0m \u001b[0;34m=\u001b[0m \u001b[0;32mFalse\u001b[0m\u001b[0;34m)\u001b[0m\u001b[0;34m\u001b[0m\u001b[0;34m\u001b[0m\u001b[0m\n\u001b[1;32m      2\u001b[0m \u001b[0mtest_x\u001b[0m\u001b[0;34m.\u001b[0m\u001b[0mto_parquet\u001b[0m\u001b[0;34m(\u001b[0m\u001b[0;34m'drive/MyDrive/data/test_v3.parquet'\u001b[0m\u001b[0;34m,\u001b[0m \u001b[0mcompression\u001b[0m \u001b[0;34m=\u001b[0m \u001b[0;34m'gzip'\u001b[0m\u001b[0;34m,\u001b[0m \u001b[0mengine\u001b[0m \u001b[0;34m=\u001b[0m \u001b[0;34m'pyarrow'\u001b[0m\u001b[0;34m,\u001b[0m \u001b[0mindex\u001b[0m \u001b[0;34m=\u001b[0m \u001b[0;32mFalse\u001b[0m\u001b[0;34m)\u001b[0m\u001b[0;34m\u001b[0m\u001b[0;34m\u001b[0m\u001b[0m\n\u001b[0;32m----> 3\u001b[0;31m \u001b[0mtrain_y\u001b[0m\u001b[0;34m.\u001b[0m\u001b[0mto_parquet\u001b[0m\u001b[0;34m(\u001b[0m\u001b[0;34m'drive/MyDrive/data/trainy_v3.parquet'\u001b[0m\u001b[0;34m,\u001b[0m \u001b[0mcompression\u001b[0m \u001b[0;34m=\u001b[0m \u001b[0;34m'gzip'\u001b[0m\u001b[0;34m,\u001b[0m \u001b[0mengine\u001b[0m \u001b[0;34m=\u001b[0m \u001b[0;34m'pyarrow'\u001b[0m\u001b[0;34m,\u001b[0m \u001b[0mindex\u001b[0m \u001b[0;34m=\u001b[0m \u001b[0;32mFalse\u001b[0m\u001b[0;34m)\u001b[0m\u001b[0;34m\u001b[0m\u001b[0;34m\u001b[0m\u001b[0m\n\u001b[0m",
            "\u001b[0;32m/usr/local/lib/python3.10/dist-packages/pandas/core/generic.py\u001b[0m in \u001b[0;36m__getattr__\u001b[0;34m(self, name)\u001b[0m\n\u001b[1;32m   5987\u001b[0m         ):\n\u001b[1;32m   5988\u001b[0m             \u001b[0;32mreturn\u001b[0m \u001b[0mself\u001b[0m\u001b[0;34m[\u001b[0m\u001b[0mname\u001b[0m\u001b[0;34m]\u001b[0m\u001b[0;34m\u001b[0m\u001b[0;34m\u001b[0m\u001b[0m\n\u001b[0;32m-> 5989\u001b[0;31m         \u001b[0;32mreturn\u001b[0m \u001b[0mobject\u001b[0m\u001b[0;34m.\u001b[0m\u001b[0m__getattribute__\u001b[0m\u001b[0;34m(\u001b[0m\u001b[0mself\u001b[0m\u001b[0;34m,\u001b[0m \u001b[0mname\u001b[0m\u001b[0;34m)\u001b[0m\u001b[0;34m\u001b[0m\u001b[0;34m\u001b[0m\u001b[0m\n\u001b[0m\u001b[1;32m   5990\u001b[0m \u001b[0;34m\u001b[0m\u001b[0m\n\u001b[1;32m   5991\u001b[0m     \u001b[0;32mdef\u001b[0m \u001b[0m__setattr__\u001b[0m\u001b[0;34m(\u001b[0m\u001b[0mself\u001b[0m\u001b[0;34m,\u001b[0m \u001b[0mname\u001b[0m\u001b[0;34m:\u001b[0m \u001b[0mstr\u001b[0m\u001b[0;34m,\u001b[0m \u001b[0mvalue\u001b[0m\u001b[0;34m)\u001b[0m \u001b[0;34m->\u001b[0m \u001b[0;32mNone\u001b[0m\u001b[0;34m:\u001b[0m\u001b[0;34m\u001b[0m\u001b[0;34m\u001b[0m\u001b[0m\n",
            "\u001b[0;31mAttributeError\u001b[0m: 'Series' object has no attribute 'to_parquet'"
          ]
        }
      ],
      "source": [
        "train_x.to_parquet('drive/MyDrive/data/train_v3.parquet', compression = 'gzip', engine = 'pyarrow', index = False)\n",
        "test_x.to_parquet('drive/MyDrive/data/test_v3.parquet', compression = 'gzip', engine = 'pyarrow', index = False)\n",
        "train_y.to_parquet('drive/MyDrive/data/trainy_v3.parquet', compression = 'gzip', engine = 'pyarrow', index = False)"
      ]
    },
    {
      "cell_type": "code",
      "execution_count": null,
      "metadata": {
        "id": "hALAGzRwHWYb"
      },
      "outputs": [],
      "source": [
        "# Split the dataset into training and validation sets\n",
        "X_train, X_val, y_train, y_val = train_test_split(train_x, train_y, test_size=0.2, random_state=42)"
      ]
    },
    {
      "cell_type": "code",
      "execution_count": null,
      "metadata": {
        "colab": {
          "base_uri": "https://localhost:8080/"
        },
        "id": "geInytAfHX9d",
        "outputId": "c01b74d7-256b-488d-af8a-4de74f18aff5"
      },
      "outputs": [
        {
          "name": "stdout",
          "output_type": "stream",
          "text": [
            "Collecting flaml\n",
            "  Downloading FLAML-2.1.2-py3-none-any.whl (296 kB)\n",
            "\u001b[?25l     \u001b[90m━━━━━━━━━━━━━━━━━━━━━━━━━━━━━━━━━━━━━━━━\u001b[0m \u001b[32m0.0/296.7 kB\u001b[0m \u001b[31m?\u001b[0m eta \u001b[36m-:--:--\u001b[0m\r\u001b[2K     \u001b[91m━━━━━━━━━━━━━━━━━━━━━━━━━━\u001b[0m\u001b[90m╺\u001b[0m\u001b[90m━━━━━━━━━━━━━\u001b[0m \u001b[32m194.6/296.7 kB\u001b[0m \u001b[31m5.6 MB/s\u001b[0m eta \u001b[36m0:00:01\u001b[0m\r\u001b[2K     \u001b[90m━━━━━━━━━━━━━━━━━━━━━━━━━━━━━━━━━━━━━━━━\u001b[0m \u001b[32m296.7/296.7 kB\u001b[0m \u001b[31m5.5 MB/s\u001b[0m eta \u001b[36m0:00:00\u001b[0m\n",
            "\u001b[?25hRequirement already satisfied: NumPy>=1.17 in /usr/local/lib/python3.10/dist-packages (from flaml) (1.25.2)\n",
            "Installing collected packages: flaml\n",
            "Successfully installed flaml-2.1.2\n"
          ]
        }
      ],
      "source": [
        "!pip install flaml"
      ]
    },
    {
      "cell_type": "code",
      "execution_count": null,
      "metadata": {
        "colab": {
          "base_uri": "https://localhost:8080/"
        },
        "id": "a50ikYCcH9hk",
        "outputId": "8b0c442f-976a-47e5-863f-0e12e8ab9920"
      },
      "outputs": [
        {
          "name": "stdout",
          "output_type": "stream",
          "text": [
            "Collecting wandb\n",
            "  Downloading wandb-0.17.0-py3-none-manylinux_2_5_x86_64.manylinux1_x86_64.manylinux_2_17_x86_64.manylinux2014_x86_64.whl (6.7 MB)\n",
            "\u001b[2K     \u001b[90m━━━━━━━━━━━━━━━━━━━━━━━━━━━━━━━━━━━━━━━━\u001b[0m \u001b[32m6.7/6.7 MB\u001b[0m \u001b[31m19.0 MB/s\u001b[0m eta \u001b[36m0:00:00\u001b[0m\n",
            "\u001b[?25hRequirement already satisfied: click!=8.0.0,>=7.1 in /usr/local/lib/python3.10/dist-packages (from wandb) (8.1.7)\n",
            "Collecting docker-pycreds>=0.4.0 (from wandb)\n",
            "  Downloading docker_pycreds-0.4.0-py2.py3-none-any.whl (9.0 kB)\n",
            "Collecting gitpython!=3.1.29,>=1.0.0 (from wandb)\n",
            "  Downloading GitPython-3.1.43-py3-none-any.whl (207 kB)\n",
            "\u001b[2K     \u001b[90m━━━━━━━━━━━━━━━━━━━━━━━━━━━━━━━━━━━━━━━━\u001b[0m \u001b[32m207.3/207.3 kB\u001b[0m \u001b[31m31.4 MB/s\u001b[0m eta \u001b[36m0:00:00\u001b[0m\n",
            "\u001b[?25hRequirement already satisfied: platformdirs in /usr/local/lib/python3.10/dist-packages (from wandb) (4.2.2)\n",
            "Requirement already satisfied: protobuf!=4.21.0,<5,>=3.19.0 in /usr/local/lib/python3.10/dist-packages (from wandb) (3.20.3)\n",
            "Requirement already satisfied: psutil>=5.0.0 in /usr/local/lib/python3.10/dist-packages (from wandb) (5.9.5)\n",
            "Requirement already satisfied: pyyaml in /usr/local/lib/python3.10/dist-packages (from wandb) (6.0.1)\n",
            "Requirement already satisfied: requests<3,>=2.0.0 in /usr/local/lib/python3.10/dist-packages (from wandb) (2.31.0)\n",
            "Collecting sentry-sdk>=1.0.0 (from wandb)\n",
            "  Downloading sentry_sdk-2.3.1-py2.py3-none-any.whl (289 kB)\n",
            "\u001b[2K     \u001b[90m━━━━━━━━━━━━━━━━━━━━━━━━━━━━━━━━━━━━━━━━\u001b[0m \u001b[32m289.0/289.0 kB\u001b[0m \u001b[31m37.6 MB/s\u001b[0m eta \u001b[36m0:00:00\u001b[0m\n",
            "\u001b[?25hCollecting setproctitle (from wandb)\n",
            "  Downloading setproctitle-1.3.3-cp310-cp310-manylinux_2_5_x86_64.manylinux1_x86_64.manylinux_2_17_x86_64.manylinux2014_x86_64.whl (30 kB)\n",
            "Requirement already satisfied: setuptools in /usr/local/lib/python3.10/dist-packages (from wandb) (67.7.2)\n",
            "Requirement already satisfied: six>=1.4.0 in /usr/local/lib/python3.10/dist-packages (from docker-pycreds>=0.4.0->wandb) (1.16.0)\n",
            "Collecting gitdb<5,>=4.0.1 (from gitpython!=3.1.29,>=1.0.0->wandb)\n",
            "  Downloading gitdb-4.0.11-py3-none-any.whl (62 kB)\n",
            "\u001b[2K     \u001b[90m━━━━━━━━━━━━━━━━━━━━━━━━━━━━━━━━━━━━━━━━\u001b[0m \u001b[32m62.7/62.7 kB\u001b[0m \u001b[31m10.5 MB/s\u001b[0m eta \u001b[36m0:00:00\u001b[0m\n",
            "\u001b[?25hRequirement already satisfied: charset-normalizer<4,>=2 in /usr/local/lib/python3.10/dist-packages (from requests<3,>=2.0.0->wandb) (3.3.2)\n",
            "Requirement already satisfied: idna<4,>=2.5 in /usr/local/lib/python3.10/dist-packages (from requests<3,>=2.0.0->wandb) (3.7)\n",
            "Requirement already satisfied: urllib3<3,>=1.21.1 in /usr/local/lib/python3.10/dist-packages (from requests<3,>=2.0.0->wandb) (2.0.7)\n",
            "Requirement already satisfied: certifi>=2017.4.17 in /usr/local/lib/python3.10/dist-packages (from requests<3,>=2.0.0->wandb) (2024.2.2)\n",
            "Collecting smmap<6,>=3.0.1 (from gitdb<5,>=4.0.1->gitpython!=3.1.29,>=1.0.0->wandb)\n",
            "  Downloading smmap-5.0.1-py3-none-any.whl (24 kB)\n",
            "Installing collected packages: smmap, setproctitle, sentry-sdk, docker-pycreds, gitdb, gitpython, wandb\n",
            "Successfully installed docker-pycreds-0.4.0 gitdb-4.0.11 gitpython-3.1.43 sentry-sdk-2.3.1 setproctitle-1.3.3 smmap-5.0.1 wandb-0.17.0\n"
          ]
        }
      ],
      "source": [
        "!pip install wandb"
      ]
    },
    {
      "cell_type": "code",
      "execution_count": null,
      "metadata": {
        "id": "M38BHGaxHtyv"
      },
      "outputs": [],
      "source": [
        "from flaml import AutoML\n",
        "# import wandb"
      ]
    },
    {
      "cell_type": "code",
      "execution_count": null,
      "metadata": {
        "id": "DXpmehatHqW3"
      },
      "outputs": [],
      "source": [
        "# Initialize AutoML\n",
        "automl = AutoML()\n",
        "\n",
        "automl_settings = {\n",
        "    \"time_budget\": 3600,  # Total time budget in seconds\n",
        "    \"metric\": 'roc_auc',  # Evaluation metric\n",
        "    \"task\": 'classification',  # Task type\n",
        "    \"log_file_name\": 'automl.log',  # Log file\n",
        "    #\"estimator_list\": ['lgbm', 'xgboost', 'catboost', 'rf', 'extra_tree'],  # List of estimators to use\n",
        "     \"estimator_list\": ['lgbm'],\n",
        "    #\"eval_method\": \"holdout\",  # Use holdout validation method\n",
        "    # \"split_ratio\": 0.2,  # Ratio of data to be used as validation set\n",
        "    \"early_stop\": 10\n",
        "}\n"
      ]
    },
    {
      "cell_type": "code",
      "execution_count": null,
      "metadata": {
        "colab": {
          "background_save": true,
          "base_uri": "https://localhost:8080/"
        },
        "id": "fh06DIxWJM2X",
        "outputId": "145a6e25-0430-487e-e466-e56e7048dc34"
      },
      "outputs": [
        {
          "name": "stdout",
          "output_type": "stream",
          "text": [
            "[flaml.automl.logger: 05-30 06:18:29] {1680} INFO - task = classification\n",
            "[flaml.automl.logger: 05-30 06:18:29] {1688} INFO - Data split method: stratified\n",
            "[flaml.automl.logger: 05-30 06:18:29] {1691} INFO - Evaluation method: holdout\n",
            "[flaml.automl.logger: 05-30 06:18:34] {1789} INFO - Minimizing error metric: 1-roc_auc\n",
            "[flaml.automl.logger: 05-30 06:18:34] {1901} INFO - List of ML learners in AutoML Run: ['lgbm']\n",
            "[flaml.automl.logger: 05-30 06:18:34] {2219} INFO - iteration 0, current learner lgbm\n",
            "[flaml.automl.logger: 05-30 06:18:35] {2345} INFO - Estimated sufficient time budget=6675713s. Estimated necessary time budget=6676s.\n",
            "[flaml.automl.logger: 05-30 06:18:35] {2392} INFO -  at 71.6s,\testimator lgbm's best error=0.3742,\tbest estimator lgbm's best error=0.3742\n",
            "[flaml.automl.logger: 05-30 06:18:35] {2219} INFO - iteration 1, current learner lgbm\n",
            "[flaml.automl.logger: 05-30 06:18:36] {2392} INFO -  at 72.4s,\testimator lgbm's best error=0.3742,\tbest estimator lgbm's best error=0.3742\n",
            "[flaml.automl.logger: 05-30 06:18:36] {2219} INFO - iteration 2, current learner lgbm\n",
            "[flaml.automl.logger: 05-30 06:18:37] {2392} INFO -  at 73.3s,\testimator lgbm's best error=0.3550,\tbest estimator lgbm's best error=0.3550\n",
            "[flaml.automl.logger: 05-30 06:18:37] {2219} INFO - iteration 3, current learner lgbm\n",
            "[flaml.automl.logger: 05-30 06:18:38] {2392} INFO -  at 74.4s,\testimator lgbm's best error=0.3378,\tbest estimator lgbm's best error=0.3378\n",
            "[flaml.automl.logger: 05-30 06:18:38] {2219} INFO - iteration 4, current learner lgbm\n",
            "[flaml.automl.logger: 05-30 06:18:39] {2392} INFO -  at 75.5s,\testimator lgbm's best error=0.3378,\tbest estimator lgbm's best error=0.3378\n",
            "[flaml.automl.logger: 05-30 06:18:39] {2219} INFO - iteration 5, current learner lgbm\n",
            "[flaml.automl.logger: 05-30 06:18:40] {2392} INFO -  at 76.7s,\testimator lgbm's best error=0.3347,\tbest estimator lgbm's best error=0.3347\n",
            "[flaml.automl.logger: 05-30 06:18:40] {2219} INFO - iteration 6, current learner lgbm\n",
            "[flaml.automl.logger: 05-30 06:18:41] {2392} INFO -  at 77.8s,\testimator lgbm's best error=0.3347,\tbest estimator lgbm's best error=0.3347\n",
            "[flaml.automl.logger: 05-30 06:18:41] {2219} INFO - iteration 7, current learner lgbm\n",
            "[flaml.automl.logger: 05-30 06:18:42] {2392} INFO -  at 78.7s,\testimator lgbm's best error=0.3347,\tbest estimator lgbm's best error=0.3347\n",
            "[flaml.automl.logger: 05-30 06:18:42] {2219} INFO - iteration 8, current learner lgbm\n",
            "[flaml.automl.logger: 05-30 06:18:43] {2392} INFO -  at 80.0s,\testimator lgbm's best error=0.3293,\tbest estimator lgbm's best error=0.3293\n",
            "[flaml.automl.logger: 05-30 06:18:43] {2219} INFO - iteration 9, current learner lgbm\n",
            "[flaml.automl.logger: 05-30 06:18:44] {2392} INFO -  at 81.1s,\testimator lgbm's best error=0.3293,\tbest estimator lgbm's best error=0.3293\n",
            "[flaml.automl.logger: 05-30 06:18:44] {2219} INFO - iteration 10, current learner lgbm\n",
            "[flaml.automl.logger: 05-30 06:18:47] {2392} INFO -  at 83.7s,\testimator lgbm's best error=0.3293,\tbest estimator lgbm's best error=0.3293\n",
            "[flaml.automl.logger: 05-30 06:18:47] {2219} INFO - iteration 11, current learner lgbm\n",
            "[flaml.automl.logger: 05-30 06:18:48] {2392} INFO -  at 85.2s,\testimator lgbm's best error=0.3293,\tbest estimator lgbm's best error=0.3293\n",
            "[flaml.automl.logger: 05-30 06:18:48] {2219} INFO - iteration 12, current learner lgbm\n",
            "[flaml.automl.logger: 05-30 06:18:50] {2392} INFO -  at 86.5s,\testimator lgbm's best error=0.3293,\tbest estimator lgbm's best error=0.3293\n",
            "[flaml.automl.logger: 05-30 06:18:50] {2219} INFO - iteration 13, current learner lgbm\n",
            "[flaml.automl.logger: 05-30 06:18:51] {2392} INFO -  at 88.2s,\testimator lgbm's best error=0.3097,\tbest estimator lgbm's best error=0.3097\n",
            "[flaml.automl.logger: 05-30 06:18:51] {2219} INFO - iteration 14, current learner lgbm\n",
            "[flaml.automl.logger: 05-30 06:18:53] {2392} INFO -  at 89.9s,\testimator lgbm's best error=0.3097,\tbest estimator lgbm's best error=0.3097\n",
            "[flaml.automl.logger: 05-30 06:18:53] {2219} INFO - iteration 15, current learner lgbm\n",
            "[flaml.automl.logger: 05-30 06:18:55] {2392} INFO -  at 91.5s,\testimator lgbm's best error=0.3064,\tbest estimator lgbm's best error=0.3064\n",
            "[flaml.automl.logger: 05-30 06:18:55] {2219} INFO - iteration 16, current learner lgbm\n",
            "[flaml.automl.logger: 05-30 06:18:56] {2392} INFO -  at 93.0s,\testimator lgbm's best error=0.3064,\tbest estimator lgbm's best error=0.3064\n",
            "[flaml.automl.logger: 05-30 06:18:56] {2219} INFO - iteration 17, current learner lgbm\n",
            "[flaml.automl.logger: 05-30 06:18:58] {2392} INFO -  at 94.4s,\testimator lgbm's best error=0.3064,\tbest estimator lgbm's best error=0.3064\n",
            "[flaml.automl.logger: 05-30 06:18:58] {2219} INFO - iteration 18, current learner lgbm\n",
            "[flaml.automl.logger: 05-30 06:18:59] {2392} INFO -  at 95.9s,\testimator lgbm's best error=0.3064,\tbest estimator lgbm's best error=0.3064\n",
            "[flaml.automl.logger: 05-30 06:18:59] {2219} INFO - iteration 19, current learner lgbm\n",
            "[flaml.automl.logger: 05-30 06:19:01] {2392} INFO -  at 97.5s,\testimator lgbm's best error=0.3064,\tbest estimator lgbm's best error=0.3064\n",
            "[flaml.automl.logger: 05-30 06:19:01] {2219} INFO - iteration 20, current learner lgbm\n",
            "[flaml.automl.logger: 05-30 06:19:02] {2392} INFO -  at 98.8s,\testimator lgbm's best error=0.3064,\tbest estimator lgbm's best error=0.3064\n",
            "[flaml.automl.logger: 05-30 06:19:02] {2219} INFO - iteration 21, current learner lgbm\n",
            "[flaml.automl.logger: 05-30 06:19:04] {2392} INFO -  at 101.1s,\testimator lgbm's best error=0.2980,\tbest estimator lgbm's best error=0.2980\n",
            "[flaml.automl.logger: 05-30 06:19:04] {2219} INFO - iteration 22, current learner lgbm\n",
            "[flaml.automl.logger: 05-30 06:19:06] {2392} INFO -  at 103.1s,\testimator lgbm's best error=0.2960,\tbest estimator lgbm's best error=0.2960\n",
            "[flaml.automl.logger: 05-30 06:19:06] {2219} INFO - iteration 23, current learner lgbm\n",
            "[flaml.automl.logger: 05-30 06:19:08] {2392} INFO -  at 104.9s,\testimator lgbm's best error=0.2960,\tbest estimator lgbm's best error=0.2960\n",
            "[flaml.automl.logger: 05-30 06:19:08] {2219} INFO - iteration 24, current learner lgbm\n",
            "[flaml.automl.logger: 05-30 06:19:10] {2392} INFO -  at 107.0s,\testimator lgbm's best error=0.2960,\tbest estimator lgbm's best error=0.2960\n",
            "[flaml.automl.logger: 05-30 06:19:10] {2219} INFO - iteration 25, current learner lgbm\n",
            "[flaml.automl.logger: 05-30 06:19:12] {2392} INFO -  at 108.9s,\testimator lgbm's best error=0.2960,\tbest estimator lgbm's best error=0.2960\n",
            "[flaml.automl.logger: 05-30 06:19:12] {2219} INFO - iteration 26, current learner lgbm\n",
            "[flaml.automl.logger: 05-30 06:19:14] {2392} INFO -  at 111.1s,\testimator lgbm's best error=0.2917,\tbest estimator lgbm's best error=0.2917\n",
            "[flaml.automl.logger: 05-30 06:19:14] {2219} INFO - iteration 27, current learner lgbm\n",
            "[flaml.automl.logger: 05-30 06:19:17] {2392} INFO -  at 114.0s,\testimator lgbm's best error=0.2917,\tbest estimator lgbm's best error=0.2917\n",
            "[flaml.automl.logger: 05-30 06:19:17] {2219} INFO - iteration 28, current learner lgbm\n",
            "[flaml.automl.logger: 05-30 06:19:20] {2392} INFO -  at 116.8s,\testimator lgbm's best error=0.2917,\tbest estimator lgbm's best error=0.2917\n",
            "[flaml.automl.logger: 05-30 06:19:20] {2219} INFO - iteration 29, current learner lgbm\n",
            "[flaml.automl.logger: 05-30 06:19:22] {2392} INFO -  at 118.5s,\testimator lgbm's best error=0.2917,\tbest estimator lgbm's best error=0.2917\n",
            "[flaml.automl.logger: 05-30 06:19:22] {2219} INFO - iteration 30, current learner lgbm\n",
            "[flaml.automl.logger: 05-30 06:19:23] {2392} INFO -  at 120.1s,\testimator lgbm's best error=0.2917,\tbest estimator lgbm's best error=0.2917\n",
            "[flaml.automl.logger: 05-30 06:19:23] {2219} INFO - iteration 31, current learner lgbm\n",
            "[flaml.automl.logger: 05-30 06:19:27] {2392} INFO -  at 123.3s,\testimator lgbm's best error=0.2870,\tbest estimator lgbm's best error=0.2870\n",
            "[flaml.automl.logger: 05-30 06:19:27] {2219} INFO - iteration 32, current learner lgbm\n",
            "[flaml.automl.logger: 05-30 06:19:29] {2392} INFO -  at 126.0s,\testimator lgbm's best error=0.2870,\tbest estimator lgbm's best error=0.2870\n",
            "[flaml.automl.logger: 05-30 06:19:29] {2219} INFO - iteration 33, current learner lgbm\n",
            "[flaml.automl.logger: 05-30 06:19:34] {2392} INFO -  at 131.2s,\testimator lgbm's best error=0.2850,\tbest estimator lgbm's best error=0.2850\n",
            "[flaml.automl.logger: 05-30 06:19:34] {2219} INFO - iteration 34, current learner lgbm\n",
            "[flaml.automl.logger: 05-30 06:19:38] {2392} INFO -  at 135.2s,\testimator lgbm's best error=0.2850,\tbest estimator lgbm's best error=0.2850\n",
            "[flaml.automl.logger: 05-30 06:19:38] {2219} INFO - iteration 35, current learner lgbm\n",
            "[flaml.automl.logger: 05-30 06:19:43] {2392} INFO -  at 139.9s,\testimator lgbm's best error=0.2850,\tbest estimator lgbm's best error=0.2850\n",
            "[flaml.automl.logger: 05-30 06:19:43] {2219} INFO - iteration 36, current learner lgbm\n",
            "[flaml.automl.logger: 05-30 06:19:55] {2392} INFO -  at 152.2s,\testimator lgbm's best error=0.2814,\tbest estimator lgbm's best error=0.2814\n",
            "[flaml.automl.logger: 05-30 06:19:55] {2219} INFO - iteration 37, current learner lgbm\n",
            "[flaml.automl.logger: 05-30 06:20:01] {2392} INFO -  at 158.1s,\testimator lgbm's best error=0.2814,\tbest estimator lgbm's best error=0.2814\n",
            "[flaml.automl.logger: 05-30 06:20:01] {2219} INFO - iteration 38, current learner lgbm\n",
            "[flaml.automl.logger: 05-30 06:20:32] {2392} INFO -  at 189.1s,\testimator lgbm's best error=0.2787,\tbest estimator lgbm's best error=0.2787\n",
            "[flaml.automl.logger: 05-30 06:20:32] {2219} INFO - iteration 39, current learner lgbm\n",
            "[flaml.automl.logger: 05-30 06:20:49] {2392} INFO -  at 205.4s,\testimator lgbm's best error=0.2787,\tbest estimator lgbm's best error=0.2787\n",
            "[flaml.automl.logger: 05-30 06:20:49] {2219} INFO - iteration 40, current learner lgbm\n",
            "[flaml.automl.logger: 05-30 06:22:33] {2392} INFO -  at 310.2s,\testimator lgbm's best error=0.2787,\tbest estimator lgbm's best error=0.2787\n",
            "[flaml.automl.logger: 05-30 06:22:33] {2219} INFO - iteration 41, current learner lgbm\n",
            "[flaml.automl.logger: 05-30 06:22:45] {2392} INFO -  at 321.9s,\testimator lgbm's best error=0.2787,\tbest estimator lgbm's best error=0.2787\n",
            "[flaml.automl.logger: 05-30 06:22:45] {2219} INFO - iteration 42, current learner lgbm\n",
            "[flaml.automl.logger: 05-30 06:25:57] {2392} INFO -  at 514.1s,\testimator lgbm's best error=0.2684,\tbest estimator lgbm's best error=0.2684\n",
            "[flaml.automl.logger: 05-30 06:25:57] {2219} INFO - iteration 43, current learner lgbm\n",
            "[flaml.automl.logger: 05-30 06:26:45] {2392} INFO -  at 561.8s,\testimator lgbm's best error=0.2684,\tbest estimator lgbm's best error=0.2684\n",
            "[flaml.automl.logger: 05-30 06:26:45] {2219} INFO - iteration 44, current learner lgbm\n",
            "[flaml.automl.logger: 05-30 06:40:02] {2392} INFO -  at 1358.8s,\testimator lgbm's best error=0.2659,\tbest estimator lgbm's best error=0.2659\n",
            "[flaml.automl.logger: 05-30 06:40:02] {2219} INFO - iteration 45, current learner lgbm\n",
            "[flaml.automl.logger: 05-30 07:05:11] {2392} INFO -  at 2867.3s,\testimator lgbm's best error=0.2648,\tbest estimator lgbm's best error=0.2648\n",
            "[flaml.automl.logger: 05-30 07:05:11] {2494} INFO - selected model: LGBMClassifier(colsample_bytree=0.5981802383725362,\n",
            "               learning_rate=0.055528324539329495, max_bin=1023,\n",
            "               min_child_samples=9, n_estimators=1, n_jobs=-1, num_leaves=84,\n",
            "               reg_alpha=0.0009765625, reg_lambda=0.11093814537108947,\n",
            "               verbose=-1)\n",
            "[flaml.automl.logger: 05-30 07:05:11] {1931} INFO - fit succeeded\n",
            "[flaml.automl.logger: 05-30 07:05:11] {1932} INFO - Time taken to find the best model: 2867.265498161316\n",
            "[flaml.automl.logger: 05-30 07:05:11] {1942} WARNING - Time taken to find the best model is 80% of the provided time budget and not all estimators' hyperparameter search converged. Consider increasing the time budget.\n"
          ]
        }
      ],
      "source": [
        "# Fit the model\n",
        "automl.fit(X_train=X_train, y_train=y_train, X_val=X_val, y_val=y_val, **automl_settings)"
      ]
    },
    {
      "cell_type": "code",
      "execution_count": null,
      "metadata": {
        "id": "TQiJJ5ndJWif"
      },
      "outputs": [],
      "source": [
        "sample_submission = pd.read_csv('drive/MyDrive/data/sample_submission.csv')\n",
        "\n",
        "# Predict probabilities on the test set\n",
        "y_pred_test_proba = automl.predict_proba(test_x)[:, 1]\n",
        "\n",
        "# Output the probabilities for test set\n",
        "print(y_pred_test_proba)"
      ]
    },
    {
      "cell_type": "code",
      "execution_count": null,
      "metadata": {
        "id": "4ZxSL8U7JcKo"
      },
      "outputs": [],
      "source": [
        "sample_submission['Click'] = y_pred_test_proba\n",
        "sample_submission"
      ]
    },
    {
      "cell_type": "code",
      "execution_count": null,
      "metadata": {
        "id": "RPYqpUSSJdV-"
      },
      "outputs": [],
      "source": [
        "sample_submission.to_csv(\"drive/MyDrive/data/lgbm_prediction_v3.csv\",index = False)"
      ]
    }
  ],
  "metadata": {
    "accelerator": "GPU",
    "colab": {
      "gpuType": "L4",
      "provenance": [],
      "mount_file_id": "13ygHvpyylKZCqLe2dd_GnBC-Mi6OmhYQ",
      "authorship_tag": "ABX9TyNRAbbGhPC7r3QyFX87ncLs",
      "include_colab_link": true
    },
    "kernelspec": {
      "display_name": "Python 3",
      "name": "python3"
    },
    "language_info": {
      "name": "python"
    }
  },
  "nbformat": 4,
  "nbformat_minor": 0
}