{
  "nbformat": 4,
  "nbformat_minor": 0,
  "metadata": {
    "colab": {
      "provenance": [],
      "mount_file_id": "17bOnXeNs1zGQ6anuycEV7IvB-nAsM_B5",
      "authorship_tag": "ABX9TyPleGc2W6mUiFVLiwgyNObn",
      "include_colab_link": true
    },
    "kernelspec": {
      "name": "python3",
      "display_name": "Python 3"
    },
    "language_info": {
      "name": "python"
    }
  },
  "cells": [
    {
      "cell_type": "markdown",
      "metadata": {
        "id": "view-in-github",
        "colab_type": "text"
      },
      "source": [
        "<a href=\"https://colab.research.google.com/github/Tiabet/DACON_WebClick/blob/main/Untitled6.ipynb\" target=\"_parent\"><img src=\"https://colab.research.google.com/assets/colab-badge.svg\" alt=\"Open In Colab\"/></a>"
      ]
    },
    {
      "cell_type": "code",
      "source": [
        "import os\n",
        "import pandas as pd\n",
        "import numpy as np\n",
        "\n",
        "def calculate_average_click(directory, submission_file):\n",
        "    # Get list of all CSV files in the directory, excluding the submission file\n",
        "    csv_files = [f for f in os.listdir(directory) if f.endswith('.csv') and f != submission_file]\n",
        "\n",
        "    # Initialize a list to hold DataFrames\n",
        "    dfs = []\n",
        "\n",
        "    for file in csv_files:\n",
        "        # Construct full file path\n",
        "        file_path = os.path.join(directory, file)\n",
        "\n",
        "        # Read the CSV file into a DataFrame\n",
        "        df = pd.read_csv(file_path)\n",
        "\n",
        "        # Check if the Click column exists\n",
        "        if 'Click' in df.columns:\n",
        "            dfs.append(df[['Click']])\n",
        "        else:\n",
        "            print(f'The file {file} does not contain a Click column.')\n",
        "\n",
        "    # Concatenate all DataFrames along the columns\n",
        "    concatenated_df = pd.concat(dfs, axis=1)\n",
        "\n",
        "    # Calculate the mean Click value across the columns\n",
        "    average_click = concatenated_df.mean(axis=1)\n",
        "\n",
        "    print(f'Average Clicks: {average_click}')\n",
        "\n",
        "    # Load the submission file\n",
        "    submission_file_path = os.path.join(directory, submission_file)\n",
        "    submission_df = pd.read_csv(submission_file_path)\n",
        "\n",
        "    # Check if the Click column exists in the submission file\n",
        "    if 'Click' in submission_df.columns:\n",
        "        # Assign the average click values to the Click column\n",
        "        submission_df['Click'] = average_click.values\n",
        "\n",
        "        # Save the updated submission file\n",
        "        submission_df.to_csv(submission_file_path, index=False)\n",
        "        print(f'Updated {submission_file} with average Click values.')\n",
        "    else:\n",
        "        print(f'The submission file {submission_file} does not contain a Click column.')\n",
        "\n",
        "# Specify the directory containing the CSV files and the submission file name\n",
        "directory = '/content/drive/MyDrive/data'\n",
        "submission_file = 'sample_submission.csv'\n",
        "\n",
        "# Call the function\n",
        "calculate_average_click(directory, submission_file)\n"
      ],
      "metadata": {
        "colab": {
          "base_uri": "https://localhost:8080/"
        },
        "id": "JfiLy2OSdS9d",
        "outputId": "695357cb-fc97-4876-f47a-2be0838303e9"
      },
      "execution_count": null,
      "outputs": [
        {
          "output_type": "stream",
          "name": "stdout",
          "text": [
            "Average Clicks: 0          0.513423\n",
            "1          0.479188\n",
            "2          0.392881\n",
            "3          0.694568\n",
            "4          0.750196\n",
            "             ...   \n",
            "4538536    0.509322\n",
            "4538537    0.636696\n",
            "4538538    0.227169\n",
            "4538539    0.452694\n",
            "4538540    0.642404\n",
            "Length: 4538541, dtype: float64\n",
            "Updated sample_submission.csv with average Click values.\n"
          ]
        }
      ]
    },
    {
      "cell_type": "code",
      "source": [],
      "metadata": {
        "id": "24TIaOqOfP4P"
      },
      "execution_count": null,
      "outputs": []
    }
  ]
}